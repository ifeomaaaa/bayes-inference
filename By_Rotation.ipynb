{
  "nbformat": 4,
  "nbformat_minor": 0,
  "metadata": {
    "colab": {
      "provenance": [],
      "authorship_tag": "ABX9TyOe2ooyAQmwoFOWbniKG6Ct"
    },
    "kernelspec": {
      "name": "python3",
      "display_name": "Python 3"
    },
    "language_info": {
      "name": "python"
    }
  },
  "cells": [
    {
      "cell_type": "code",
      "execution_count": 2,
      "metadata": {
        "id": "ZgmXrFOHq11M"
      },
      "outputs": [],
      "source": [
        "import numpy as np \n",
        "import pandas as pd \n",
        "from scipy.stats import binom\n",
        "\n",
        "import matplotlib.pyplot as plt\n",
        "import seaborn as sns\n",
        "sns.set()"
      ]
    },
    {
      "cell_type": "code",
      "source": [
        "listings = pd.read_csv('By_Rotation_listings.csv')\n",
        "listings['prob'] = 1/34\n",
        "listings.head(9)"
      ],
      "metadata": {
        "colab": {
          "base_uri": "https://localhost:8080/",
          "height": 332
        },
        "id": "LxdQrwSnq8GY",
        "outputId": "1fbf72b9-4b84-42a2-8a28-a7c4741cf00e"
      },
      "execution_count": 45,
      "outputs": [
        {
          "output_type": "execute_result",
          "data": {
            "text/plain": [
              "   Product ID           Product Name  Product Price Product Category  \\\n",
              "0           1       Asymmetric dress            200            Dress   \n",
              "1           2            Pleat dress            150            Dress   \n",
              "2           3     Matelasse mini bag           1050              Bag   \n",
              "3           4             Lace Skirt             95            Skirt   \n",
              "4           5        Chermeuse dress            210            Dress   \n",
              "5           6            Silk blouse            124            Shirt   \n",
              "6           7         Rockstud pumps            500            Heels   \n",
              "7           8           Pouch clutch           1900              Bag   \n",
              "8           9  Saffiano shoulder bag            500              Bag   \n",
              "\n",
              "   Product Brand   Product Views  Product Likes      prob  \n",
              "0    See By Chloe             48              0  0.029412  \n",
              "1           Reiss             33              2  0.029412  \n",
              "2         Miu Miu             70              1  0.029412  \n",
              "3   Self Portrait             42              0  0.029412  \n",
              "4        Nanushka             74              2  0.029412  \n",
              "5  Maggie Marilyn             21              0  0.029412  \n",
              "6       Valentino            107              5  0.029412  \n",
              "7  Bottega Veneta            251              8  0.029412  \n",
              "8           Prada            164             19  0.029412  "
            ],
            "text/html": [
              "\n",
              "  <div id=\"df-b0604bb8-ecb2-467e-a4a0-fc9767fc514b\">\n",
              "    <div class=\"colab-df-container\">\n",
              "      <div>\n",
              "<style scoped>\n",
              "    .dataframe tbody tr th:only-of-type {\n",
              "        vertical-align: middle;\n",
              "    }\n",
              "\n",
              "    .dataframe tbody tr th {\n",
              "        vertical-align: top;\n",
              "    }\n",
              "\n",
              "    .dataframe thead th {\n",
              "        text-align: right;\n",
              "    }\n",
              "</style>\n",
              "<table border=\"1\" class=\"dataframe\">\n",
              "  <thead>\n",
              "    <tr style=\"text-align: right;\">\n",
              "      <th></th>\n",
              "      <th>Product ID</th>\n",
              "      <th>Product Name</th>\n",
              "      <th>Product Price</th>\n",
              "      <th>Product Category</th>\n",
              "      <th>Product Brand</th>\n",
              "      <th>Product Views</th>\n",
              "      <th>Product Likes</th>\n",
              "      <th>prob</th>\n",
              "    </tr>\n",
              "  </thead>\n",
              "  <tbody>\n",
              "    <tr>\n",
              "      <th>0</th>\n",
              "      <td>1</td>\n",
              "      <td>Asymmetric dress</td>\n",
              "      <td>200</td>\n",
              "      <td>Dress</td>\n",
              "      <td>See By Chloe</td>\n",
              "      <td>48</td>\n",
              "      <td>0</td>\n",
              "      <td>0.029412</td>\n",
              "    </tr>\n",
              "    <tr>\n",
              "      <th>1</th>\n",
              "      <td>2</td>\n",
              "      <td>Pleat dress</td>\n",
              "      <td>150</td>\n",
              "      <td>Dress</td>\n",
              "      <td>Reiss</td>\n",
              "      <td>33</td>\n",
              "      <td>2</td>\n",
              "      <td>0.029412</td>\n",
              "    </tr>\n",
              "    <tr>\n",
              "      <th>2</th>\n",
              "      <td>3</td>\n",
              "      <td>Matelasse mini bag</td>\n",
              "      <td>1050</td>\n",
              "      <td>Bag</td>\n",
              "      <td>Miu Miu</td>\n",
              "      <td>70</td>\n",
              "      <td>1</td>\n",
              "      <td>0.029412</td>\n",
              "    </tr>\n",
              "    <tr>\n",
              "      <th>3</th>\n",
              "      <td>4</td>\n",
              "      <td>Lace Skirt</td>\n",
              "      <td>95</td>\n",
              "      <td>Skirt</td>\n",
              "      <td>Self Portrait</td>\n",
              "      <td>42</td>\n",
              "      <td>0</td>\n",
              "      <td>0.029412</td>\n",
              "    </tr>\n",
              "    <tr>\n",
              "      <th>4</th>\n",
              "      <td>5</td>\n",
              "      <td>Chermeuse dress</td>\n",
              "      <td>210</td>\n",
              "      <td>Dress</td>\n",
              "      <td>Nanushka</td>\n",
              "      <td>74</td>\n",
              "      <td>2</td>\n",
              "      <td>0.029412</td>\n",
              "    </tr>\n",
              "    <tr>\n",
              "      <th>5</th>\n",
              "      <td>6</td>\n",
              "      <td>Silk blouse</td>\n",
              "      <td>124</td>\n",
              "      <td>Shirt</td>\n",
              "      <td>Maggie Marilyn</td>\n",
              "      <td>21</td>\n",
              "      <td>0</td>\n",
              "      <td>0.029412</td>\n",
              "    </tr>\n",
              "    <tr>\n",
              "      <th>6</th>\n",
              "      <td>7</td>\n",
              "      <td>Rockstud pumps</td>\n",
              "      <td>500</td>\n",
              "      <td>Heels</td>\n",
              "      <td>Valentino</td>\n",
              "      <td>107</td>\n",
              "      <td>5</td>\n",
              "      <td>0.029412</td>\n",
              "    </tr>\n",
              "    <tr>\n",
              "      <th>7</th>\n",
              "      <td>8</td>\n",
              "      <td>Pouch clutch</td>\n",
              "      <td>1900</td>\n",
              "      <td>Bag</td>\n",
              "      <td>Bottega Veneta</td>\n",
              "      <td>251</td>\n",
              "      <td>8</td>\n",
              "      <td>0.029412</td>\n",
              "    </tr>\n",
              "    <tr>\n",
              "      <th>8</th>\n",
              "      <td>9</td>\n",
              "      <td>Saffiano shoulder bag</td>\n",
              "      <td>500</td>\n",
              "      <td>Bag</td>\n",
              "      <td>Prada</td>\n",
              "      <td>164</td>\n",
              "      <td>19</td>\n",
              "      <td>0.029412</td>\n",
              "    </tr>\n",
              "  </tbody>\n",
              "</table>\n",
              "</div>\n",
              "      <button class=\"colab-df-convert\" onclick=\"convertToInteractive('df-b0604bb8-ecb2-467e-a4a0-fc9767fc514b')\"\n",
              "              title=\"Convert this dataframe to an interactive table.\"\n",
              "              style=\"display:none;\">\n",
              "        \n",
              "  <svg xmlns=\"http://www.w3.org/2000/svg\" height=\"24px\"viewBox=\"0 0 24 24\"\n",
              "       width=\"24px\">\n",
              "    <path d=\"M0 0h24v24H0V0z\" fill=\"none\"/>\n",
              "    <path d=\"M18.56 5.44l.94 2.06.94-2.06 2.06-.94-2.06-.94-.94-2.06-.94 2.06-2.06.94zm-11 1L8.5 8.5l.94-2.06 2.06-.94-2.06-.94L8.5 2.5l-.94 2.06-2.06.94zm10 10l.94 2.06.94-2.06 2.06-.94-2.06-.94-.94-2.06-.94 2.06-2.06.94z\"/><path d=\"M17.41 7.96l-1.37-1.37c-.4-.4-.92-.59-1.43-.59-.52 0-1.04.2-1.43.59L10.3 9.45l-7.72 7.72c-.78.78-.78 2.05 0 2.83L4 21.41c.39.39.9.59 1.41.59.51 0 1.02-.2 1.41-.59l7.78-7.78 2.81-2.81c.8-.78.8-2.07 0-2.86zM5.41 20L4 18.59l7.72-7.72 1.47 1.35L5.41 20z\"/>\n",
              "  </svg>\n",
              "      </button>\n",
              "      \n",
              "  <style>\n",
              "    .colab-df-container {\n",
              "      display:flex;\n",
              "      flex-wrap:wrap;\n",
              "      gap: 12px;\n",
              "    }\n",
              "\n",
              "    .colab-df-convert {\n",
              "      background-color: #E8F0FE;\n",
              "      border: none;\n",
              "      border-radius: 50%;\n",
              "      cursor: pointer;\n",
              "      display: none;\n",
              "      fill: #1967D2;\n",
              "      height: 32px;\n",
              "      padding: 0 0 0 0;\n",
              "      width: 32px;\n",
              "    }\n",
              "\n",
              "    .colab-df-convert:hover {\n",
              "      background-color: #E2EBFA;\n",
              "      box-shadow: 0px 1px 2px rgba(60, 64, 67, 0.3), 0px 1px 3px 1px rgba(60, 64, 67, 0.15);\n",
              "      fill: #174EA6;\n",
              "    }\n",
              "\n",
              "    [theme=dark] .colab-df-convert {\n",
              "      background-color: #3B4455;\n",
              "      fill: #D2E3FC;\n",
              "    }\n",
              "\n",
              "    [theme=dark] .colab-df-convert:hover {\n",
              "      background-color: #434B5C;\n",
              "      box-shadow: 0px 1px 3px 1px rgba(0, 0, 0, 0.15);\n",
              "      filter: drop-shadow(0px 1px 2px rgba(0, 0, 0, 0.3));\n",
              "      fill: #FFFFFF;\n",
              "    }\n",
              "  </style>\n",
              "\n",
              "      <script>\n",
              "        const buttonEl =\n",
              "          document.querySelector('#df-b0604bb8-ecb2-467e-a4a0-fc9767fc514b button.colab-df-convert');\n",
              "        buttonEl.style.display =\n",
              "          google.colab.kernel.accessAllowed ? 'block' : 'none';\n",
              "\n",
              "        async function convertToInteractive(key) {\n",
              "          const element = document.querySelector('#df-b0604bb8-ecb2-467e-a4a0-fc9767fc514b');\n",
              "          const dataTable =\n",
              "            await google.colab.kernel.invokeFunction('convertToInteractive',\n",
              "                                                     [key], {});\n",
              "          if (!dataTable) return;\n",
              "\n",
              "          const docLinkHtml = 'Like what you see? Visit the ' +\n",
              "            '<a target=\"_blank\" href=https://colab.research.google.com/notebooks/data_table.ipynb>data table notebook</a>'\n",
              "            + ' to learn more about interactive tables.';\n",
              "          element.innerHTML = '';\n",
              "          dataTable['output_type'] = 'display_data';\n",
              "          await google.colab.output.renderOutput(dataTable, element);\n",
              "          const docLink = document.createElement('div');\n",
              "          docLink.innerHTML = docLinkHtml;\n",
              "          element.appendChild(docLink);\n",
              "        }\n",
              "      </script>\n",
              "    </div>\n",
              "  </div>\n",
              "  "
            ]
          },
          "metadata": {},
          "execution_count": 45
        }
      ]
    },
    {
      "cell_type": "code",
      "source": [
        "probs = np.full((34), 1/34)\n",
        "face = (1,2,3,4,5,6,7,8,9,10,11,12,13,14,15,16,17,18,19,20,21,22,23,24,25,26,27,28,29,30,31,32,33,34)\n",
        "plt.bar(face, probs)\n",
        "plt.ylabel('Probability', fontsize=12)\n",
        "plt.xlabel('Product ID', fontsize=12)\n",
        "plt.title('Product ID Uniform Distribution', fontsize=12)\n",
        "axes = plt.gca()\n",
        "axes.set_ylim([0,1])"
      ],
      "metadata": {
        "colab": {
          "base_uri": "https://localhost:8080/",
          "height": 315
        },
        "id": "dU8iwudlPNow",
        "outputId": "a44917c1-3108-47ba-9338-92a049c1beed"
      },
      "execution_count": 54,
      "outputs": [
        {
          "output_type": "execute_result",
          "data": {
            "text/plain": [
              "(0.0, 1.0)"
            ]
          },
          "metadata": {},
          "execution_count": 54
        },
        {
          "output_type": "display_data",
          "data": {
            "text/plain": [
              "<Figure size 432x288 with 1 Axes>"
            ],
            "image/png": "[encoded data removed]"
          },
          "metadata": {
            "needs_background": "light"
          }
        }
      ]
    },
    {
      "cell_type": "code",
      "source": [],
      "metadata": {
        "id": "EwBv93rAQaAB"
      },
      "execution_count": null,
      "outputs": []
    },
    {
      "cell_type": "code",
      "source": [
        "import matplotlib.pyplot as plt"
      ],
      "metadata": {
        "id": "5cHtdsJl9gwp"
      },
      "execution_count": 18,
      "outputs": []
    },
    {
      "cell_type": "code",
      "source": [
        "sales = pd.read_csv('By_Rotation_Sales.csv')\n",
        "sales = sales.loc[:, ~sales.columns.str.contains('^Unnamed')]\n",
        "sales['Rent Start Date'] = pd.to_datetime(sales['Rent Start Date'])\n",
        "sales['TotalSales'] = sales.groupby(['Product ID'])['Rent Paid'].transform(sum)\n",
        "sales.head(15)"
      ],
      "metadata": {
        "colab": {
          "base_uri": "https://localhost:8080/",
          "height": 457
        },
        "id": "6gIrWkJzrHLE",
        "outputId": "b086ecca-8dc5-450d-a257-be1d7d89a13b"
      },
      "execution_count": 72,
      "outputs": [
        {
          "output_type": "execute_result",
          "data": {
            "text/plain": [
              "    Product ID  Rent Price Rent Start Date  Rent Paid Discount  TotalSales\n",
              "0            9          26      2022-03-19      22.10       No      187.85\n",
              "1            9          26      2022-04-10      22.10       No      187.85\n",
              "2            9         182      2022-04-27      55.25      Yes      187.85\n",
              "3            9          52      2022-05-27      44.20       No      187.85\n",
              "4            9          26      2022-06-02      22.10       No      187.85\n",
              "5           21          39      2022-06-15      33.15       No       66.30\n",
              "6           10          25      2022-06-18      21.25       No       21.25\n",
              "7           16          84      2022-07-07      71.40       No       71.40\n",
              "8           26          19      2022-08-06      16.15       No       16.15\n",
              "9           19          23      2022-08-12      19.55       No       19.55\n",
              "10          21          39      2022-08-28      33.15       No       66.30\n",
              "11           9          26      2022-09-03      22.10       No      187.85\n",
              "12          14          20      2022-10-07      17.00       No       17.00"
            ],
            "text/html": [
              "\n",
              "  <div id=\"df-3be83287-ec3a-4ffe-8c73-95045e9579fa\">\n",
              "    <div class=\"colab-df-container\">\n",
              "      <div>\n",
              "<style scoped>\n",
              "    .dataframe tbody tr th:only-of-type {\n",
              "        vertical-align: middle;\n",
              "    }\n",
              "\n",
              "    .dataframe tbody tr th {\n",
              "        vertical-align: top;\n",
              "    }\n",
              "\n",
              "    .dataframe thead th {\n",
              "        text-align: right;\n",
              "    }\n",
              "</style>\n",
              "<table border=\"1\" class=\"dataframe\">\n",
              "  <thead>\n",
              "    <tr style=\"text-align: right;\">\n",
              "      <th></th>\n",
              "      <th>Product ID</th>\n",
              "      <th>Rent Price</th>\n",
              "      <th>Rent Start Date</th>\n",
              "      <th>Rent Paid</th>\n",
              "      <th>Discount</th>\n",
              "      <th>TotalSales</th>\n",
              "    </tr>\n",
              "  </thead>\n",
              "  <tbody>\n",
              "    <tr>\n",
              "      <th>0</th>\n",
              "      <td>9</td>\n",
              "      <td>26</td>\n",
              "      <td>2022-03-19</td>\n",
              "      <td>22.10</td>\n",
              "      <td>No</td>\n",
              "      <td>187.85</td>\n",
              "    </tr>\n",
              "    <tr>\n",
              "      <th>1</th>\n",
              "      <td>9</td>\n",
              "      <td>26</td>\n",
              "      <td>2022-04-10</td>\n",
              "      <td>22.10</td>\n",
              "      <td>No</td>\n",
              "      <td>187.85</td>\n",
              "    </tr>\n",
              "    <tr>\n",
              "      <th>2</th>\n",
              "      <td>9</td>\n",
              "      <td>182</td>\n",
              "      <td>2022-04-27</td>\n",
              "      <td>55.25</td>\n",
              "      <td>Yes</td>\n",
              "      <td>187.85</td>\n",
              "    </tr>\n",
              "    <tr>\n",
              "      <th>3</th>\n",
              "      <td>9</td>\n",
              "      <td>52</td>\n",
              "      <td>2022-05-27</td>\n",
              "      <td>44.20</td>\n",
              "      <td>No</td>\n",
              "      <td>187.85</td>\n",
              "    </tr>\n",
              "    <tr>\n",
              "      <th>4</th>\n",
              "      <td>9</td>\n",
              "      <td>26</td>\n",
              "      <td>2022-06-02</td>\n",
              "      <td>22.10</td>\n",
              "      <td>No</td>\n",
              "      <td>187.85</td>\n",
              "    </tr>\n",
              "    <tr>\n",
              "      <th>5</th>\n",
              "      <td>21</td>\n",
              "      <td>39</td>\n",
              "      <td>2022-06-15</td>\n",
              "      <td>33.15</td>\n",
              "      <td>No</td>\n",
              "      <td>66.30</td>\n",
              "    </tr>\n",
              "    <tr>\n",
              "      <th>6</th>\n",
              "      <td>10</td>\n",
              "      <td>25</td>\n",
              "      <td>2022-06-18</td>\n",
              "      <td>21.25</td>\n",
              "      <td>No</td>\n",
              "      <td>21.25</td>\n",
              "    </tr>\n",
              "    <tr>\n",
              "      <th>7</th>\n",
              "      <td>16</td>\n",
              "      <td>84</td>\n",
              "      <td>2022-07-07</td>\n",
              "      <td>71.40</td>\n",
              "      <td>No</td>\n",
              "      <td>71.40</td>\n",
              "    </tr>\n",
              "    <tr>\n",
              "      <th>8</th>\n",
              "      <td>26</td>\n",
              "      <td>19</td>\n",
              "      <td>2022-08-06</td>\n",
              "      <td>16.15</td>\n",
              "      <td>No</td>\n",
              "      <td>16.15</td>\n",
              "    </tr>\n",
              "    <tr>\n",
              "      <th>9</th>\n",
              "      <td>19</td>\n",
              "      <td>23</td>\n",
              "      <td>2022-08-12</td>\n",
              "      <td>19.55</td>\n",
              "      <td>No</td>\n",
              "      <td>19.55</td>\n",
              "    </tr>\n",
              "    <tr>\n",
              "      <th>10</th>\n",
              "      <td>21</td>\n",
              "      <td>39</td>\n",
              "      <td>2022-08-28</td>\n",
              "      <td>33.15</td>\n",
              "      <td>No</td>\n",
              "      <td>66.30</td>\n",
              "    </tr>\n",
              "    <tr>\n",
              "      <th>11</th>\n",
              "      <td>9</td>\n",
              "      <td>26</td>\n",
              "      <td>2022-09-03</td>\n",
              "      <td>22.10</td>\n",
              "      <td>No</td>\n",
              "      <td>187.85</td>\n",
              "    </tr>\n",
              "    <tr>\n",
              "      <th>12</th>\n",
              "      <td>14</td>\n",
              "      <td>20</td>\n",
              "      <td>2022-10-07</td>\n",
              "      <td>17.00</td>\n",
              "      <td>No</td>\n",
              "      <td>17.00</td>\n",
              "    </tr>\n",
              "  </tbody>\n",
              "</table>\n",
              "</div>\n",
              "      <button class=\"colab-df-convert\" onclick=\"convertToInteractive('df-3be83287-ec3a-4ffe-8c73-95045e9579fa')\"\n",
              "              title=\"Convert this dataframe to an interactive table.\"\n",
              "              style=\"display:none;\">\n",
              "        \n",
              "  <svg xmlns=\"http://www.w3.org/2000/svg\" height=\"24px\"viewBox=\"0 0 24 24\"\n",
              "       width=\"24px\">\n",
              "    <path d=\"M0 0h24v24H0V0z\" fill=\"none\"/>\n",
              "    <path d=\"M18.56 5.44l.94 2.06.94-2.06 2.06-.94-2.06-.94-.94-2.06-.94 2.06-2.06.94zm-11 1L8.5 8.5l.94-2.06 2.06-.94-2.06-.94L8.5 2.5l-.94 2.06-2.06.94zm10 10l.94 2.06.94-2.06 2.06-.94-2.06-.94-.94-2.06-.94 2.06-2.06.94z\"/><path d=\"M17.41 7.96l-1.37-1.37c-.4-.4-.92-.59-1.43-.59-.52 0-1.04.2-1.43.59L10.3 9.45l-7.72 7.72c-.78.78-.78 2.05 0 2.83L4 21.41c.39.39.9.59 1.41.59.51 0 1.02-.2 1.41-.59l7.78-7.78 2.81-2.81c.8-.78.8-2.07 0-2.86zM5.41 20L4 18.59l7.72-7.72 1.47 1.35L5.41 20z\"/>\n",
              "  </svg>\n",
              "      </button>\n",
              "      \n",
              "  <style>\n",
              "    .colab-df-container {\n",
              "      display:flex;\n",
              "      flex-wrap:wrap;\n",
              "      gap: 12px;\n",
              "    }\n",
              "\n",
              "    .colab-df-convert {\n",
              "      background-color: #E8F0FE;\n",
              "      border: none;\n",
              "      border-radius: 50%;\n",
              "      cursor: pointer;\n",
              "      display: none;\n",
              "      fill: #1967D2;\n",
              "      height: 32px;\n",
              "      padding: 0 0 0 0;\n",
              "      width: 32px;\n",
              "    }\n",
              "\n",
              "    .colab-df-convert:hover {\n",
              "      background-color: #E2EBFA;\n",
              "      box-shadow: 0px 1px 2px rgba(60, 64, 67, 0.3), 0px 1px 3px 1px rgba(60, 64, 67, 0.15);\n",
              "      fill: #174EA6;\n",
              "    }\n",
              "\n",
              "    [theme=dark] .colab-df-convert {\n",
              "      background-color: #3B4455;\n",
              "      fill: #D2E3FC;\n",
              "    }\n",
              "\n",
              "    [theme=dark] .colab-df-convert:hover {\n",
              "      background-color: #434B5C;\n",
              "      box-shadow: 0px 1px 3px 1px rgba(0, 0, 0, 0.15);\n",
              "      filter: drop-shadow(0px 1px 2px rgba(0, 0, 0, 0.3));\n",
              "      fill: #FFFFFF;\n",
              "    }\n",
              "  </style>\n",
              "\n",
              "      <script>\n",
              "        const buttonEl =\n",
              "          document.querySelector('#df-3be83287-ec3a-4ffe-8c73-95045e9579fa button.colab-df-convert');\n",
              "        buttonEl.style.display =\n",
              "          google.colab.kernel.accessAllowed ? 'block' : 'none';\n",
              "\n",
              "        async function convertToInteractive(key) {\n",
              "          const element = document.querySelector('#df-3be83287-ec3a-4ffe-8c73-95045e9579fa');\n",
              "          const dataTable =\n",
              "            await google.colab.kernel.invokeFunction('convertToInteractive',\n",
              "                                                     [key], {});\n",
              "          if (!dataTable) return;\n",
              "\n",
              "          const docLinkHtml = 'Like what you see? Visit the ' +\n",
              "            '<a target=\"_blank\" href=https://colab.research.google.com/notebooks/data_table.ipynb>data table notebook</a>'\n",
              "            + ' to learn more about interactive tables.';\n",
              "          element.innerHTML = '';\n",
              "          dataTable['output_type'] = 'display_data';\n",
              "          await google.colab.output.renderOutput(dataTable, element);\n",
              "          const docLink = document.createElement('div');\n",
              "          docLink.innerHTML = docLinkHtml;\n",
              "          element.appendChild(docLink);\n",
              "        }\n",
              "      </script>\n",
              "    </div>\n",
              "  </div>\n",
              "  "
            ]
          },
          "metadata": {},
          "execution_count": 72
        }
      ]
    },
    {
      "cell_type": "code",
      "source": [
        "sales['TotalSales'].hist(color='pink')\n",
        "plt.show()"
      ],
      "metadata": {
        "colab": {
          "base_uri": "https://localhost:8080/",
          "height": 265
        },
        "id": "5s69KoC6JRXE",
        "outputId": "2f23029e-047a-492d-bab1-cd640f576d80"
      },
      "execution_count": 82,
      "outputs": [
        {
          "output_type": "display_data",
          "data": {
            "text/plain": [
              "<Figure size 432x288 with 1 Axes>"
            ],
            "image/png": "[encoded data removed]"
          },
          "metadata": {
            "needs_background": "light"
          }
        }
      ]
    },
    {
      "cell_type": "code",
      "source": [
        "sales2 = sales.groupby('Product ID').sum()\n",
        "sales2.drop(['Rent Price', 'TotalSales'], axis=1, inplace=True)\n",
        "sales2.head()"
      ],
      "metadata": {
        "colab": {
          "base_uri": "https://localhost:8080/",
          "height": 238
        },
        "id": "SxSw6zD_Hs5Z",
        "outputId": "26a7b0e6-4424-45ea-b49e-4bb38d63d7d2"
      },
      "execution_count": 68,
      "outputs": [
        {
          "output_type": "execute_result",
          "data": {
            "text/plain": [
              "            Rent Paid\n",
              "Product ID           \n",
              "9              187.85\n",
              "10              21.25\n",
              "14              17.00\n",
              "16              71.40\n",
              "19              19.55"
            ],
            "text/html": [
              "\n",
              "  <div id=\"df-1d1cc5d5-3f2f-4f8e-86dc-55920715dedf\">\n",
              "    <div class=\"colab-df-container\">\n",
              "      <div>\n",
              "<style scoped>\n",
              "    .dataframe tbody tr th:only-of-type {\n",
              "        vertical-align: middle;\n",
              "    }\n",
              "\n",
              "    .dataframe tbody tr th {\n",
              "        vertical-align: top;\n",
              "    }\n",
              "\n",
              "    .dataframe thead th {\n",
              "        text-align: right;\n",
              "    }\n",
              "</style>\n",
              "<table border=\"1\" class=\"dataframe\">\n",
              "  <thead>\n",
              "    <tr style=\"text-align: right;\">\n",
              "      <th></th>\n",
              "      <th>Rent Paid</th>\n",
              "    </tr>\n",
              "    <tr>\n",
              "      <th>Product ID</th>\n",
              "      <th></th>\n",
              "    </tr>\n",
              "  </thead>\n",
              "  <tbody>\n",
              "    <tr>\n",
              "      <th>9</th>\n",
              "      <td>187.85</td>\n",
              "    </tr>\n",
              "    <tr>\n",
              "      <th>10</th>\n",
              "      <td>21.25</td>\n",
              "    </tr>\n",
              "    <tr>\n",
              "      <th>14</th>\n",
              "      <td>17.00</td>\n",
              "    </tr>\n",
              "    <tr>\n",
              "      <th>16</th>\n",
              "      <td>71.40</td>\n",
              "    </tr>\n",
              "    <tr>\n",
              "      <th>19</th>\n",
              "      <td>19.55</td>\n",
              "    </tr>\n",
              "  </tbody>\n",
              "</table>\n",
              "</div>\n",
              "      <button class=\"colab-df-convert\" onclick=\"convertToInteractive('df-1d1cc5d5-3f2f-4f8e-86dc-55920715dedf')\"\n",
              "              title=\"Convert this dataframe to an interactive table.\"\n",
              "              style=\"display:none;\">\n",
              "        \n",
              "  <svg xmlns=\"http://www.w3.org/2000/svg\" height=\"24px\"viewBox=\"0 0 24 24\"\n",
              "       width=\"24px\">\n",
              "    <path d=\"M0 0h24v24H0V0z\" fill=\"none\"/>\n",
              "    <path d=\"M18.56 5.44l.94 2.06.94-2.06 2.06-.94-2.06-.94-.94-2.06-.94 2.06-2.06.94zm-11 1L8.5 8.5l.94-2.06 2.06-.94-2.06-.94L8.5 2.5l-.94 2.06-2.06.94zm10 10l.94 2.06.94-2.06 2.06-.94-2.06-.94-.94-2.06-.94 2.06-2.06.94z\"/><path d=\"M17.41 7.96l-1.37-1.37c-.4-.4-.92-.59-1.43-.59-.52 0-1.04.2-1.43.59L10.3 9.45l-7.72 7.72c-.78.78-.78 2.05 0 2.83L4 21.41c.39.39.9.59 1.41.59.51 0 1.02-.2 1.41-.59l7.78-7.78 2.81-2.81c.8-.78.8-2.07 0-2.86zM5.41 20L4 18.59l7.72-7.72 1.47 1.35L5.41 20z\"/>\n",
              "  </svg>\n",
              "      </button>\n",
              "      \n",
              "  <style>\n",
              "    .colab-df-container {\n",
              "      display:flex;\n",
              "      flex-wrap:wrap;\n",
              "      gap: 12px;\n",
              "    }\n",
              "\n",
              "    .colab-df-convert {\n",
              "      background-color: #E8F0FE;\n",
              "      border: none;\n",
              "      border-radius: 50%;\n",
              "      cursor: pointer;\n",
              "      display: none;\n",
              "      fill: #1967D2;\n",
              "      height: 32px;\n",
              "      padding: 0 0 0 0;\n",
              "      width: 32px;\n",
              "    }\n",
              "\n",
              "    .colab-df-convert:hover {\n",
              "      background-color: #E2EBFA;\n",
              "      box-shadow: 0px 1px 2px rgba(60, 64, 67, 0.3), 0px 1px 3px 1px rgba(60, 64, 67, 0.15);\n",
              "      fill: #174EA6;\n",
              "    }\n",
              "\n",
              "    [theme=dark] .colab-df-convert {\n",
              "      background-color: #3B4455;\n",
              "      fill: #D2E3FC;\n",
              "    }\n",
              "\n",
              "    [theme=dark] .colab-df-convert:hover {\n",
              "      background-color: #434B5C;\n",
              "      box-shadow: 0px 1px 3px 1px rgba(0, 0, 0, 0.15);\n",
              "      filter: drop-shadow(0px 1px 2px rgba(0, 0, 0, 0.3));\n",
              "      fill: #FFFFFF;\n",
              "    }\n",
              "  </style>\n",
              "\n",
              "      <script>\n",
              "        const buttonEl =\n",
              "          document.querySelector('#df-1d1cc5d5-3f2f-4f8e-86dc-55920715dedf button.colab-df-convert');\n",
              "        buttonEl.style.display =\n",
              "          google.colab.kernel.accessAllowed ? 'block' : 'none';\n",
              "\n",
              "        async function convertToInteractive(key) {\n",
              "          const element = document.querySelector('#df-1d1cc5d5-3f2f-4f8e-86dc-55920715dedf');\n",
              "          const dataTable =\n",
              "            await google.colab.kernel.invokeFunction('convertToInteractive',\n",
              "                                                     [key], {});\n",
              "          if (!dataTable) return;\n",
              "\n",
              "          const docLinkHtml = 'Like what you see? Visit the ' +\n",
              "            '<a target=\"_blank\" href=https://colab.research.google.com/notebooks/data_table.ipynb>data table notebook</a>'\n",
              "            + ' to learn more about interactive tables.';\n",
              "          element.innerHTML = '';\n",
              "          dataTable['output_type'] = 'display_data';\n",
              "          await google.colab.output.renderOutput(dataTable, element);\n",
              "          const docLink = document.createElement('div');\n",
              "          docLink.innerHTML = docLinkHtml;\n",
              "          element.appendChild(docLink);\n",
              "        }\n",
              "      </script>\n",
              "    </div>\n",
              "  </div>\n",
              "  "
            ]
          },
          "metadata": {},
          "execution_count": 68
        }
      ]
    },
    {
      "cell_type": "code",
      "source": [
        "result = sales.dtypes\n",
        "\n",
        "print(\"Output:\")\n",
        "print(result)"
      ],
      "metadata": {
        "colab": {
          "base_uri": "https://localhost:8080/"
        },
        "id": "O8NdZ5OAEO6G",
        "outputId": "55e4ecc9-19d2-4f4d-be63-e8b321d6b62a"
      },
      "execution_count": 30,
      "outputs": [
        {
          "output_type": "stream",
          "name": "stdout",
          "text": [
            "Output:\n",
            "Product ID                  int64\n",
            "Rent Price                  int64\n",
            "Rent Start Date    datetime64[ns]\n",
            "Rent Paid                 float64\n",
            "Discount                   object\n",
            "dtype: object\n"
          ]
        }
      ]
    },
    {
      "cell_type": "code",
      "source": [
        "#https://medium.com/p/b5eb22114275\n",
        "sales['Rent Paid'].plot(color='mediumvioletred') \n",
        "plt.show()"
      ],
      "metadata": {
        "colab": {
          "base_uri": "https://localhost:8080/",
          "height": 265
        },
        "id": "V0bgp4lqCP3t",
        "outputId": "238a732e-8425-4ebe-83f8-4b94d484a63a"
      },
      "execution_count": 83,
      "outputs": [
        {
          "output_type": "display_data",
          "data": {
            "text/plain": [
              "<Figure size 432x288 with 1 Axes>"
            ],
            "image/png": "[encoded data removed]"
          },
          "metadata": {
            "needs_background": "light"
          }
        }
      ]
    },
    {
      "cell_type": "code",
      "source": [
        "#https://www.kaggle.com/code/discdiver/testing-prophet-for-time-series-prediction\n",
        "sales1= sales[['Rent Start Date', 'Rent Paid']]\n",
        "sales1 = sales1.rename(columns={'Rent Start Date': 'ds', 'Rent Paid': 'y'})\n",
        "sales1.head()"
      ],
      "metadata": {
        "colab": {
          "base_uri": "https://localhost:8080/",
          "height": 206
        },
        "id": "kUwRVN0IDxdg",
        "outputId": "c1c3e328-865f-4b92-cb41-8996d9694e2f"
      },
      "execution_count": 34,
      "outputs": [
        {
          "output_type": "execute_result",
          "data": {
            "text/plain": [
              "          ds      y\n",
              "0 2022-03-19  22.10\n",
              "1 2022-04-10  22.10\n",
              "2 2022-04-27  55.25\n",
              "3 2022-05-27  44.20\n",
              "4 2022-06-02  22.10"
            ],
            "text/html": [
              "\n",
              "  <div id=\"df-382ec366-d627-480c-94f2-42a5faaa58fc\">\n",
              "    <div class=\"colab-df-container\">\n",
              "      <div>\n",
              "<style scoped>\n",
              "    .dataframe tbody tr th:only-of-type {\n",
              "        vertical-align: middle;\n",
              "    }\n",
              "\n",
              "    .dataframe tbody tr th {\n",
              "        vertical-align: top;\n",
              "    }\n",
              "\n",
              "    .dataframe thead th {\n",
              "        text-align: right;\n",
              "    }\n",
              "</style>\n",
              "<table border=\"1\" class=\"dataframe\">\n",
              "  <thead>\n",
              "    <tr style=\"text-align: right;\">\n",
              "      <th></th>\n",
              "      <th>ds</th>\n",
              "      <th>y</th>\n",
              "    </tr>\n",
              "  </thead>\n",
              "  <tbody>\n",
              "    <tr>\n",
              "      <th>0</th>\n",
              "      <td>2022-03-19</td>\n",
              "      <td>22.10</td>\n",
              "    </tr>\n",
              "    <tr>\n",
              "      <th>1</th>\n",
              "      <td>2022-04-10</td>\n",
              "      <td>22.10</td>\n",
              "    </tr>\n",
              "    <tr>\n",
              "      <th>2</th>\n",
              "      <td>2022-04-27</td>\n",
              "      <td>55.25</td>\n",
              "    </tr>\n",
              "    <tr>\n",
              "      <th>3</th>\n",
              "      <td>2022-05-27</td>\n",
              "      <td>44.20</td>\n",
              "    </tr>\n",
              "    <tr>\n",
              "      <th>4</th>\n",
              "      <td>2022-06-02</td>\n",
              "      <td>22.10</td>\n",
              "    </tr>\n",
              "  </tbody>\n",
              "</table>\n",
              "</div>\n",
              "      <button class=\"colab-df-convert\" onclick=\"convertToInteractive('df-382ec366-d627-480c-94f2-42a5faaa58fc')\"\n",
              "              title=\"Convert this dataframe to an interactive table.\"\n",
              "              style=\"display:none;\">\n",
              "        \n",
              "  <svg xmlns=\"http://www.w3.org/2000/svg\" height=\"24px\"viewBox=\"0 0 24 24\"\n",
              "       width=\"24px\">\n",
              "    <path d=\"M0 0h24v24H0V0z\" fill=\"none\"/>\n",
              "    <path d=\"M18.56 5.44l.94 2.06.94-2.06 2.06-.94-2.06-.94-.94-2.06-.94 2.06-2.06.94zm-11 1L8.5 8.5l.94-2.06 2.06-.94-2.06-.94L8.5 2.5l-.94 2.06-2.06.94zm10 10l.94 2.06.94-2.06 2.06-.94-2.06-.94-.94-2.06-.94 2.06-2.06.94z\"/><path d=\"M17.41 7.96l-1.37-1.37c-.4-.4-.92-.59-1.43-.59-.52 0-1.04.2-1.43.59L10.3 9.45l-7.72 7.72c-.78.78-.78 2.05 0 2.83L4 21.41c.39.39.9.59 1.41.59.51 0 1.02-.2 1.41-.59l7.78-7.78 2.81-2.81c.8-.78.8-2.07 0-2.86zM5.41 20L4 18.59l7.72-7.72 1.47 1.35L5.41 20z\"/>\n",
              "  </svg>\n",
              "      </button>\n",
              "      \n",
              "  <style>\n",
              "    .colab-df-container {\n",
              "      display:flex;\n",
              "      flex-wrap:wrap;\n",
              "      gap: 12px;\n",
              "    }\n",
              "\n",
              "    .colab-df-convert {\n",
              "      background-color: #E8F0FE;\n",
              "      border: none;\n",
              "      border-radius: 50%;\n",
              "      cursor: pointer;\n",
              "      display: none;\n",
              "      fill: #1967D2;\n",
              "      height: 32px;\n",
              "      padding: 0 0 0 0;\n",
              "      width: 32px;\n",
              "    }\n",
              "\n",
              "    .colab-df-convert:hover {\n",
              "      background-color: #E2EBFA;\n",
              "      box-shadow: 0px 1px 2px rgba(60, 64, 67, 0.3), 0px 1px 3px 1px rgba(60, 64, 67, 0.15);\n",
              "      fill: #174EA6;\n",
              "    }\n",
              "\n",
              "    [theme=dark] .colab-df-convert {\n",
              "      background-color: #3B4455;\n",
              "      fill: #D2E3FC;\n",
              "    }\n",
              "\n",
              "    [theme=dark] .colab-df-convert:hover {\n",
              "      background-color: #434B5C;\n",
              "      box-shadow: 0px 1px 3px 1px rgba(0, 0, 0, 0.15);\n",
              "      filter: drop-shadow(0px 1px 2px rgba(0, 0, 0, 0.3));\n",
              "      fill: #FFFFFF;\n",
              "    }\n",
              "  </style>\n",
              "\n",
              "      <script>\n",
              "        const buttonEl =\n",
              "          document.querySelector('#df-382ec366-d627-480c-94f2-42a5faaa58fc button.colab-df-convert');\n",
              "        buttonEl.style.display =\n",
              "          google.colab.kernel.accessAllowed ? 'block' : 'none';\n",
              "\n",
              "        async function convertToInteractive(key) {\n",
              "          const element = document.querySelector('#df-382ec366-d627-480c-94f2-42a5faaa58fc');\n",
              "          const dataTable =\n",
              "            await google.colab.kernel.invokeFunction('convertToInteractive',\n",
              "                                                     [key], {});\n",
              "          if (!dataTable) return;\n",
              "\n",
              "          const docLinkHtml = 'Like what you see? Visit the ' +\n",
              "            '<a target=\"_blank\" href=https://colab.research.google.com/notebooks/data_table.ipynb>data table notebook</a>'\n",
              "            + ' to learn more about interactive tables.';\n",
              "          element.innerHTML = '';\n",
              "          dataTable['output_type'] = 'display_data';\n",
              "          await google.colab.output.renderOutput(dataTable, element);\n",
              "          const docLink = document.createElement('div');\n",
              "          docLink.innerHTML = docLinkHtml;\n",
              "          element.appendChild(docLink);\n",
              "        }\n",
              "      </script>\n",
              "    </div>\n",
              "  </div>\n",
              "  "
            ]
          },
          "metadata": {},
          "execution_count": 34
        }
      ]
    },
    {
      "cell_type": "code",
      "source": [
        "train = sales1[:24]\n",
        "train.tail()"
      ],
      "metadata": {
        "colab": {
          "base_uri": "https://localhost:8080/",
          "height": 206
        },
        "id": "YLvxHNKiGaU6",
        "outputId": "7257ab5d-7543-4317-9c70-06e03da5c29a"
      },
      "execution_count": 38,
      "outputs": [
        {
          "output_type": "execute_result",
          "data": {
            "text/plain": [
              "           ds      y\n",
              "8  2022-08-06  16.15\n",
              "9  2022-08-12  19.55\n",
              "10 2022-08-28  33.15\n",
              "11 2022-09-03  22.10\n",
              "12 2022-10-07  17.00"
            ],
            "text/html": [
              "\n",
              "  <div id=\"df-369d0f3f-fb46-48fa-8c5c-f686e362c7c9\">\n",
              "    <div class=\"colab-df-container\">\n",
              "      <div>\n",
              "<style scoped>\n",
              "    .dataframe tbody tr th:only-of-type {\n",
              "        vertical-align: middle;\n",
              "    }\n",
              "\n",
              "    .dataframe tbody tr th {\n",
              "        vertical-align: top;\n",
              "    }\n",
              "\n",
              "    .dataframe thead th {\n",
              "        text-align: right;\n",
              "    }\n",
              "</style>\n",
              "<table border=\"1\" class=\"dataframe\">\n",
              "  <thead>\n",
              "    <tr style=\"text-align: right;\">\n",
              "      <th></th>\n",
              "      <th>ds</th>\n",
              "      <th>y</th>\n",
              "    </tr>\n",
              "  </thead>\n",
              "  <tbody>\n",
              "    <tr>\n",
              "      <th>8</th>\n",
              "      <td>2022-08-06</td>\n",
              "      <td>16.15</td>\n",
              "    </tr>\n",
              "    <tr>\n",
              "      <th>9</th>\n",
              "      <td>2022-08-12</td>\n",
              "      <td>19.55</td>\n",
              "    </tr>\n",
              "    <tr>\n",
              "      <th>10</th>\n",
              "      <td>2022-08-28</td>\n",
              "      <td>33.15</td>\n",
              "    </tr>\n",
              "    <tr>\n",
              "      <th>11</th>\n",
              "      <td>2022-09-03</td>\n",
              "      <td>22.10</td>\n",
              "    </tr>\n",
              "    <tr>\n",
              "      <th>12</th>\n",
              "      <td>2022-10-07</td>\n",
              "      <td>17.00</td>\n",
              "    </tr>\n",
              "  </tbody>\n",
              "</table>\n",
              "</div>\n",
              "      <button class=\"colab-df-convert\" onclick=\"convertToInteractive('df-369d0f3f-fb46-48fa-8c5c-f686e362c7c9')\"\n",
              "              title=\"Convert this dataframe to an interactive table.\"\n",
              "              style=\"display:none;\">\n",
              "        \n",
              "  <svg xmlns=\"http://www.w3.org/2000/svg\" height=\"24px\"viewBox=\"0 0 24 24\"\n",
              "       width=\"24px\">\n",
              "    <path d=\"M0 0h24v24H0V0z\" fill=\"none\"/>\n",
              "    <path d=\"M18.56 5.44l.94 2.06.94-2.06 2.06-.94-2.06-.94-.94-2.06-.94 2.06-2.06.94zm-11 1L8.5 8.5l.94-2.06 2.06-.94-2.06-.94L8.5 2.5l-.94 2.06-2.06.94zm10 10l.94 2.06.94-2.06 2.06-.94-2.06-.94-.94-2.06-.94 2.06-2.06.94z\"/><path d=\"M17.41 7.96l-1.37-1.37c-.4-.4-.92-.59-1.43-.59-.52 0-1.04.2-1.43.59L10.3 9.45l-7.72 7.72c-.78.78-.78 2.05 0 2.83L4 21.41c.39.39.9.59 1.41.59.51 0 1.02-.2 1.41-.59l7.78-7.78 2.81-2.81c.8-.78.8-2.07 0-2.86zM5.41 20L4 18.59l7.72-7.72 1.47 1.35L5.41 20z\"/>\n",
              "  </svg>\n",
              "      </button>\n",
              "      \n",
              "  <style>\n",
              "    .colab-df-container {\n",
              "      display:flex;\n",
              "      flex-wrap:wrap;\n",
              "      gap: 12px;\n",
              "    }\n",
              "\n",
              "    .colab-df-convert {\n",
              "      background-color: #E8F0FE;\n",
              "      border: none;\n",
              "      border-radius: 50%;\n",
              "      cursor: pointer;\n",
              "      display: none;\n",
              "      fill: #1967D2;\n",
              "      height: 32px;\n",
              "      padding: 0 0 0 0;\n",
              "      width: 32px;\n",
              "    }\n",
              "\n",
              "    .colab-df-convert:hover {\n",
              "      background-color: #E2EBFA;\n",
              "      box-shadow: 0px 1px 2px rgba(60, 64, 67, 0.3), 0px 1px 3px 1px rgba(60, 64, 67, 0.15);\n",
              "      fill: #174EA6;\n",
              "    }\n",
              "\n",
              "    [theme=dark] .colab-df-convert {\n",
              "      background-color: #3B4455;\n",
              "      fill: #D2E3FC;\n",
              "    }\n",
              "\n",
              "    [theme=dark] .colab-df-convert:hover {\n",
              "      background-color: #434B5C;\n",
              "      box-shadow: 0px 1px 3px 1px rgba(0, 0, 0, 0.15);\n",
              "      filter: drop-shadow(0px 1px 2px rgba(0, 0, 0, 0.3));\n",
              "      fill: #FFFFFF;\n",
              "    }\n",
              "  </style>\n",
              "\n",
              "      <script>\n",
              "        const buttonEl =\n",
              "          document.querySelector('#df-369d0f3f-fb46-48fa-8c5c-f686e362c7c9 button.colab-df-convert');\n",
              "        buttonEl.style.display =\n",
              "          google.colab.kernel.accessAllowed ? 'block' : 'none';\n",
              "\n",
              "        async function convertToInteractive(key) {\n",
              "          const element = document.querySelector('#df-369d0f3f-fb46-48fa-8c5c-f686e362c7c9');\n",
              "          const dataTable =\n",
              "            await google.colab.kernel.invokeFunction('convertToInteractive',\n",
              "                                                     [key], {});\n",
              "          if (!dataTable) return;\n",
              "\n",
              "          const docLinkHtml = 'Like what you see? Visit the ' +\n",
              "            '<a target=\"_blank\" href=https://colab.research.google.com/notebooks/data_table.ipynb>data table notebook</a>'\n",
              "            + ' to learn more about interactive tables.';\n",
              "          element.innerHTML = '';\n",
              "          dataTable['output_type'] = 'display_data';\n",
              "          await google.colab.output.renderOutput(dataTable, element);\n",
              "          const docLink = document.createElement('div');\n",
              "          docLink.innerHTML = docLinkHtml;\n",
              "          element.appendChild(docLink);\n",
              "        }\n",
              "      </script>\n",
              "    </div>\n",
              "  </div>\n",
              "  "
            ]
          },
          "metadata": {},
          "execution_count": 38
        }
      ]
    },
    {
      "cell_type": "code",
      "source": [
        "listings_sales = listings.merge(sales, on='Product ID', how='outer')\n",
        "listings_sales['TotalSales'] = listings_sales['TotalSales'].fillna(0)\n",
        "\n",
        "listings_sales.head(40)"
      ],
      "metadata": {
        "colab": {
          "base_uri": "https://localhost:8080/",
          "height": 1000
        },
        "id": "FyRqxpK8rOJ3",
        "outputId": "b4edd424-40fb-46f5-d8ad-291c2d8cb989"
      },
      "execution_count": 74,
      "outputs": [
        {
          "output_type": "execute_result",
          "data": {
            "text/plain": [
              "    Product ID               Product Name  Product Price Product Category  \\\n",
              "0            1           Asymmetric dress            200            Dress   \n",
              "1            2                Pleat dress            150            Dress   \n",
              "2            3         Matelasse mini bag           1050              Bag   \n",
              "3            4                 Lace Skirt             95            Skirt   \n",
              "4            5            Chermeuse dress            210            Dress   \n",
              "5            6                Silk blouse            124            Shirt   \n",
              "6            7             Rockstud pumps            500            Heels   \n",
              "7            8               Pouch clutch           1900              Bag   \n",
              "8            9      Saffiano shoulder bag            500              Bag   \n",
              "9            9      Saffiano shoulder bag            500              Bag   \n",
              "10           9      Saffiano shoulder bag            500              Bag   \n",
              "11           9      Saffiano shoulder bag            500              Bag   \n",
              "12           9      Saffiano shoulder bag            500              Bag   \n",
              "13           9      Saffiano shoulder bag            500              Bag   \n",
              "14          10            Mini Mon Tresor            900              Bag   \n",
              "15          11            Lady Dior pouch           1450              Bag   \n",
              "16          12         Chiffon Mini dress            400            Dress   \n",
              "17          13          Le Bello Mini bag            280              Bag   \n",
              "18          14            Elle 105mm pump            500            Heels   \n",
              "19          15               Chain Loafer            495          Loafers   \n",
              "20          16      Leather stretch mules            620            Heels   \n",
              "21          17                Leather bag             80              Bag   \n",
              "22          18                  Speedy 90            900              Bag   \n",
              "23          19             Blackout Mules            450            Heels   \n",
              "24          20       Graffiti Espadrilles            250            Flats   \n",
              "25          21                 Tabi boots            720            Boots   \n",
              "26          21                 Tabi boots            720            Boots   \n",
              "27          22      Seasonal classic flap           3050              Bag   \n",
              "28          23               Hangisi 90mm            795            Heels   \n",
              "29          24                 Juju pumps            224            Heels   \n",
              "30          25       New very prive 120mm            650            Heels   \n",
              "31          26                So Nude 105            450            Heels   \n",
              "32          27              So Kate 120mm            450            Heels   \n",
              "33          28                 Maysale 50            545            Heels   \n",
              "34          29             Gucci x Adidas            575         Trainers   \n",
              "35          30                Sun glasses            200          Glasses   \n",
              "36          31           Le bob Artichaut             80              Hat   \n",
              "37          32  Le Polo Bagnu towel shirt            230            Shirt   \n",
              "38          33             Platfrom heels            400            Heels   \n",
              "39          34              Soho Boho Bag            900              Bag   \n",
              "\n",
              "         Product Brand   Product Views  Product Likes      prob  Rent Price  \\\n",
              "0          See By Chloe             48              0  0.029412         NaN   \n",
              "1                 Reiss             33              2  0.029412         NaN   \n",
              "2               Miu Miu             70              1  0.029412         NaN   \n",
              "3         Self Portrait             42              0  0.029412         NaN   \n",
              "4              Nanushka             74              2  0.029412         NaN   \n",
              "5        Maggie Marilyn             21              0  0.029412         NaN   \n",
              "6             Valentino            107              5  0.029412         NaN   \n",
              "7        Bottega Veneta            251              8  0.029412         NaN   \n",
              "8                 Prada            164             19  0.029412        26.0   \n",
              "9                 Prada            164             19  0.029412        26.0   \n",
              "10                Prada            164             19  0.029412       182.0   \n",
              "11                Prada            164             19  0.029412        52.0   \n",
              "12                Prada            164             19  0.029412        26.0   \n",
              "13                Prada            164             19  0.029412        26.0   \n",
              "14                Fendi             89              2  0.029412        25.0   \n",
              "15                 Dior             81              3  0.029412         NaN   \n",
              "16                 Amur             62              0  0.029412         NaN   \n",
              "17            Jacquemus            106              2  0.029412         NaN   \n",
              "18       Gianvito Rossi             92             10  0.029412        20.0   \n",
              "19          JW Anderson             59              3  0.029412         NaN   \n",
              "20       Bottega Veneta            144              9  0.029412        84.0   \n",
              "21                Coach             29              1  0.029412         NaN   \n",
              "22        Louis Vuitton             80              0  0.029412         NaN   \n",
              "23         Simon Miller             39              3  0.029412        23.0   \n",
              "24             Burberry             21              0  0.029412         NaN   \n",
              "25      Maison Margiela             71              4  0.029412        39.0   \n",
              "26      Maison Margiela             71              4  0.029412        39.0   \n",
              "27               Chanel            201              1  0.029412         NaN   \n",
              "28       Manolo Blahnik            130              6  0.029412         NaN   \n",
              "29               By Far            245             22  0.029412         NaN   \n",
              "30  Christian Louboutin             47              8  0.029412         NaN   \n",
              "31            Aquazurra             50              6  0.029412        19.0   \n",
              "32  Christian Louboutin             39              3  0.029412         NaN   \n",
              "33       Manolo Blahnik             42              1  0.029412         NaN   \n",
              "34                Gucci             36              4  0.029412         NaN   \n",
              "35              Miu Miu              7              0  0.029412         NaN   \n",
              "36            Jacquemus             27              0  0.029412         NaN   \n",
              "37            Jacquemus             21              0  0.029412         NaN   \n",
              "38                Fendi             23              0  0.029412         NaN   \n",
              "39                Gucci             27              2  0.029412         NaN   \n",
              "\n",
              "   Rent Start Date  Rent Paid Discount  TotalSales  \n",
              "0              NaT        NaN      NaN        0.00  \n",
              "1              NaT        NaN      NaN        0.00  \n",
              "2              NaT        NaN      NaN        0.00  \n",
              "3              NaT        NaN      NaN        0.00  \n",
              "4              NaT        NaN      NaN        0.00  \n",
              "5              NaT        NaN      NaN        0.00  \n",
              "6              NaT        NaN      NaN        0.00  \n",
              "7              NaT        NaN      NaN        0.00  \n",
              "8       2022-03-19      22.10       No      187.85  \n",
              "9       2022-04-10      22.10       No      187.85  \n",
              "10      2022-04-27      55.25      Yes      187.85  \n",
              "11      2022-05-27      44.20       No      187.85  \n",
              "12      2022-06-02      22.10       No      187.85  \n",
              "13      2022-09-03      22.10       No      187.85  \n",
              "14      2022-06-18      21.25       No       21.25  \n",
              "15             NaT        NaN      NaN        0.00  \n",
              "16             NaT        NaN      NaN        0.00  \n",
              "17             NaT        NaN      NaN        0.00  \n",
              "18      2022-10-07      17.00       No       17.00  \n",
              "19             NaT        NaN      NaN        0.00  \n",
              "20      2022-07-07      71.40       No       71.40  \n",
              "21             NaT        NaN      NaN        0.00  \n",
              "22             NaT        NaN      NaN        0.00  \n",
              "23      2022-08-12      19.55       No       19.55  \n",
              "24             NaT        NaN      NaN        0.00  \n",
              "25      2022-06-15      33.15       No       66.30  \n",
              "26      2022-08-28      33.15       No       66.30  \n",
              "27             NaT        NaN      NaN        0.00  \n",
              "28             NaT        NaN      NaN        0.00  \n",
              "29             NaT        NaN      NaN        0.00  \n",
              "30             NaT        NaN      NaN        0.00  \n",
              "31      2022-08-06      16.15       No       16.15  \n",
              "32             NaT        NaN      NaN        0.00  \n",
              "33             NaT        NaN      NaN        0.00  \n",
              "34             NaT        NaN      NaN        0.00  \n",
              "35             NaT        NaN      NaN        0.00  \n",
              "36             NaT        NaN      NaN        0.00  \n",
              "37             NaT        NaN      NaN        0.00  \n",
              "38             NaT        NaN      NaN        0.00  \n",
              "39             NaT        NaN      NaN        0.00  "
            ],
            "text/html": [
              "\n",
              "  <div id=\"df-70870513-3420-4bd2-a0f9-6f6261d99e62\">\n",
              "    <div class=\"colab-df-container\">\n",
              "      <div>\n",
              "<style scoped>\n",
              "    .dataframe tbody tr th:only-of-type {\n",
              "        vertical-align: middle;\n",
              "    }\n",
              "\n",
              "    .dataframe tbody tr th {\n",
              "        vertical-align: top;\n",
              "    }\n",
              "\n",
              "    .dataframe thead th {\n",
              "        text-align: right;\n",
              "    }\n",
              "</style>\n",
              "<table border=\"1\" class=\"dataframe\">\n",
              "  <thead>\n",
              "    <tr style=\"text-align: right;\">\n",
              "      <th></th>\n",
              "      <th>Product ID</th>\n",
              "      <th>Product Name</th>\n",
              "      <th>Product Price</th>\n",
              "      <th>Product Category</th>\n",
              "      <th>Product Brand</th>\n",
              "      <th>Product Views</th>\n",
              "      <th>Product Likes</th>\n",
              "      <th>prob</th>\n",
              "      <th>Rent Price</th>\n",
              "      <th>Rent Start Date</th>\n",
              "      <th>Rent Paid</th>\n",
              "      <th>Discount</th>\n",
              "      <th>TotalSales</th>\n",
              "    </tr>\n",
              "  </thead>\n",
              "  <tbody>\n",
              "    <tr>\n",
              "      <th>0</th>\n",
              "      <td>1</td>\n",
              "      <td>Asymmetric dress</td>\n",
              "      <td>200</td>\n",
              "      <td>Dress</td>\n",
              "      <td>See By Chloe</td>\n",
              "      <td>48</td>\n",
              "      <td>0</td>\n",
              "      <td>0.029412</td>\n",
              "      <td>NaN</td>\n",
              "      <td>NaT</td>\n",
              "      <td>NaN</td>\n",
              "      <td>NaN</td>\n",
              "      <td>0.00</td>\n",
              "    </tr>\n",
              "    <tr>\n",
              "      <th>1</th>\n",
              "      <td>2</td>\n",
              "      <td>Pleat dress</td>\n",
              "      <td>150</td>\n",
              "      <td>Dress</td>\n",
              "      <td>Reiss</td>\n",
              "      <td>33</td>\n",
              "      <td>2</td>\n",
              "      <td>0.029412</td>\n",
              "      <td>NaN</td>\n",
              "      <td>NaT</td>\n",
              "      <td>NaN</td>\n",
              "      <td>NaN</td>\n",
              "      <td>0.00</td>\n",
              "    </tr>\n",
              "    <tr>\n",
              "      <th>2</th>\n",
              "      <td>3</td>\n",
              "      <td>Matelasse mini bag</td>\n",
              "      <td>1050</td>\n",
              "      <td>Bag</td>\n",
              "      <td>Miu Miu</td>\n",
              "      <td>70</td>\n",
              "      <td>1</td>\n",
              "      <td>0.029412</td>\n",
              "      <td>NaN</td>\n",
              "      <td>NaT</td>\n",
              "      <td>NaN</td>\n",
              "      <td>NaN</td>\n",
              "      <td>0.00</td>\n",
              "    </tr>\n",
              "    <tr>\n",
              "      <th>3</th>\n",
              "      <td>4</td>\n",
              "      <td>Lace Skirt</td>\n",
              "      <td>95</td>\n",
              "      <td>Skirt</td>\n",
              "      <td>Self Portrait</td>\n",
              "      <td>42</td>\n",
              "      <td>0</td>\n",
              "      <td>0.029412</td>\n",
              "      <td>NaN</td>\n",
              "      <td>NaT</td>\n",
              "      <td>NaN</td>\n",
              "      <td>NaN</td>\n",
              "      <td>0.00</td>\n",
              "    </tr>\n",
              "    <tr>\n",
              "      <th>4</th>\n",
              "      <td>5</td>\n",
              "      <td>Chermeuse dress</td>\n",
              "      <td>210</td>\n",
              "      <td>Dress</td>\n",
              "      <td>Nanushka</td>\n",
              "      <td>74</td>\n",
              "      <td>2</td>\n",
              "      <td>0.029412</td>\n",
              "      <td>NaN</td>\n",
              "      <td>NaT</td>\n",
              "      <td>NaN</td>\n",
              "      <td>NaN</td>\n",
              "      <td>0.00</td>\n",
              "    </tr>\n",
              "    <tr>\n",
              "      <th>5</th>\n",
              "      <td>6</td>\n",
              "      <td>Silk blouse</td>\n",
              "      <td>124</td>\n",
              "      <td>Shirt</td>\n",
              "      <td>Maggie Marilyn</td>\n",
              "      <td>21</td>\n",
              "      <td>0</td>\n",
              "      <td>0.029412</td>\n",
              "      <td>NaN</td>\n",
              "      <td>NaT</td>\n",
              "      <td>NaN</td>\n",
              "      <td>NaN</td>\n",
              "      <td>0.00</td>\n",
              "    </tr>\n",
              "    <tr>\n",
              "      <th>6</th>\n",
              "      <td>7</td>\n",
              "      <td>Rockstud pumps</td>\n",
              "      <td>500</td>\n",
              "      <td>Heels</td>\n",
              "      <td>Valentino</td>\n",
              "      <td>107</td>\n",
              "      <td>5</td>\n",
              "      <td>0.029412</td>\n",
              "      <td>NaN</td>\n",
              "      <td>NaT</td>\n",
              "      <td>NaN</td>\n",
              "      <td>NaN</td>\n",
              "      <td>0.00</td>\n",
              "    </tr>\n",
              "    <tr>\n",
              "      <th>7</th>\n",
              "      <td>8</td>\n",
              "      <td>Pouch clutch</td>\n",
              "      <td>1900</td>\n",
              "      <td>Bag</td>\n",
              "      <td>Bottega Veneta</td>\n",
              "      <td>251</td>\n",
              "      <td>8</td>\n",
              "      <td>0.029412</td>\n",
              "      <td>NaN</td>\n",
              "      <td>NaT</td>\n",
              "      <td>NaN</td>\n",
              "      <td>NaN</td>\n",
              "      <td>0.00</td>\n",
              "    </tr>\n",
              "    <tr>\n",
              "      <th>8</th>\n",
              "      <td>9</td>\n",
              "      <td>Saffiano shoulder bag</td>\n",
              "      <td>500</td>\n",
              "      <td>Bag</td>\n",
              "      <td>Prada</td>\n",
              "      <td>164</td>\n",
              "      <td>19</td>\n",
              "      <td>0.029412</td>\n",
              "      <td>26.0</td>\n",
              "      <td>2022-03-19</td>\n",
              "      <td>22.10</td>\n",
              "      <td>No</td>\n",
              "      <td>187.85</td>\n",
              "    </tr>\n",
              "    <tr>\n",
              "      <th>9</th>\n",
              "      <td>9</td>\n",
              "      <td>Saffiano shoulder bag</td>\n",
              "      <td>500</td>\n",
              "      <td>Bag</td>\n",
              "      <td>Prada</td>\n",
              "      <td>164</td>\n",
              "      <td>19</td>\n",
              "      <td>0.029412</td>\n",
              "      <td>26.0</td>\n",
              "      <td>2022-04-10</td>\n",
              "      <td>22.10</td>\n",
              "      <td>No</td>\n",
              "      <td>187.85</td>\n",
              "    </tr>\n",
              "    <tr>\n",
              "      <th>10</th>\n",
              "      <td>9</td>\n",
              "      <td>Saffiano shoulder bag</td>\n",
              "      <td>500</td>\n",
              "      <td>Bag</td>\n",
              "      <td>Prada</td>\n",
              "      <td>164</td>\n",
              "      <td>19</td>\n",
              "      <td>0.029412</td>\n",
              "      <td>182.0</td>\n",
              "      <td>2022-04-27</td>\n",
              "      <td>55.25</td>\n",
              "      <td>Yes</td>\n",
              "      <td>187.85</td>\n",
              "    </tr>\n",
              "    <tr>\n",
              "      <th>11</th>\n",
              "      <td>9</td>\n",
              "      <td>Saffiano shoulder bag</td>\n",
              "      <td>500</td>\n",
              "      <td>Bag</td>\n",
              "      <td>Prada</td>\n",
              "      <td>164</td>\n",
              "      <td>19</td>\n",
              "      <td>0.029412</td>\n",
              "      <td>52.0</td>\n",
              "      <td>2022-05-27</td>\n",
              "      <td>44.20</td>\n",
              "      <td>No</td>\n",
              "      <td>187.85</td>\n",
              "    </tr>\n",
              "    <tr>\n",
              "      <th>12</th>\n",
              "      <td>9</td>\n",
              "      <td>Saffiano shoulder bag</td>\n",
              "      <td>500</td>\n",
              "      <td>Bag</td>\n",
              "      <td>Prada</td>\n",
              "      <td>164</td>\n",
              "      <td>19</td>\n",
              "      <td>0.029412</td>\n",
              "      <td>26.0</td>\n",
              "      <td>2022-06-02</td>\n",
              "      <td>22.10</td>\n",
              "      <td>No</td>\n",
              "      <td>187.85</td>\n",
              "    </tr>\n",
              "    <tr>\n",
              "      <th>13</th>\n",
              "      <td>9</td>\n",
              "      <td>Saffiano shoulder bag</td>\n",
              "      <td>500</td>\n",
              "      <td>Bag</td>\n",
              "      <td>Prada</td>\n",
              "      <td>164</td>\n",
              "      <td>19</td>\n",
              "      <td>0.029412</td>\n",
              "      <td>26.0</td>\n",
              "      <td>2022-09-03</td>\n",
              "      <td>22.10</td>\n",
              "      <td>No</td>\n",
              "      <td>187.85</td>\n",
              "    </tr>\n",
              "    <tr>\n",
              "      <th>14</th>\n",
              "      <td>10</td>\n",
              "      <td>Mini Mon Tresor</td>\n",
              "      <td>900</td>\n",
              "      <td>Bag</td>\n",
              "      <td>Fendi</td>\n",
              "      <td>89</td>\n",
              "      <td>2</td>\n",
              "      <td>0.029412</td>\n",
              "      <td>25.0</td>\n",
              "      <td>2022-06-18</td>\n",
              "      <td>21.25</td>\n",
              "      <td>No</td>\n",
              "      <td>21.25</td>\n",
              "    </tr>\n",
              "    <tr>\n",
              "      <th>15</th>\n",
              "      <td>11</td>\n",
              "      <td>Lady Dior pouch</td>\n",
              "      <td>1450</td>\n",
              "      <td>Bag</td>\n",
              "      <td>Dior</td>\n",
              "      <td>81</td>\n",
              "      <td>3</td>\n",
              "      <td>0.029412</td>\n",
              "      <td>NaN</td>\n",
              "      <td>NaT</td>\n",
              "      <td>NaN</td>\n",
              "      <td>NaN</td>\n",
              "      <td>0.00</td>\n",
              "    </tr>\n",
              "    <tr>\n",
              "      <th>16</th>\n",
              "      <td>12</td>\n",
              "      <td>Chiffon Mini dress</td>\n",
              "      <td>400</td>\n",
              "      <td>Dress</td>\n",
              "      <td>Amur</td>\n",
              "      <td>62</td>\n",
              "      <td>0</td>\n",
              "      <td>0.029412</td>\n",
              "      <td>NaN</td>\n",
              "      <td>NaT</td>\n",
              "      <td>NaN</td>\n",
              "      <td>NaN</td>\n",
              "      <td>0.00</td>\n",
              "    </tr>\n",
              "    <tr>\n",
              "      <th>17</th>\n",
              "      <td>13</td>\n",
              "      <td>Le Bello Mini bag</td>\n",
              "      <td>280</td>\n",
              "      <td>Bag</td>\n",
              "      <td>Jacquemus</td>\n",
              "      <td>106</td>\n",
              "      <td>2</td>\n",
              "      <td>0.029412</td>\n",
              "      <td>NaN</td>\n",
              "      <td>NaT</td>\n",
              "      <td>NaN</td>\n",
              "      <td>NaN</td>\n",
              "      <td>0.00</td>\n",
              "    </tr>\n",
              "    <tr>\n",
              "      <th>18</th>\n",
              "      <td>14</td>\n",
              "      <td>Elle 105mm pump</td>\n",
              "      <td>500</td>\n",
              "      <td>Heels</td>\n",
              "      <td>Gianvito Rossi</td>\n",
              "      <td>92</td>\n",
              "      <td>10</td>\n",
              "      <td>0.029412</td>\n",
              "      <td>20.0</td>\n",
              "      <td>2022-10-07</td>\n",
              "      <td>17.00</td>\n",
              "      <td>No</td>\n",
              "      <td>17.00</td>\n",
              "    </tr>\n",
              "    <tr>\n",
              "      <th>19</th>\n",
              "      <td>15</td>\n",
              "      <td>Chain Loafer</td>\n",
              "      <td>495</td>\n",
              "      <td>Loafers</td>\n",
              "      <td>JW Anderson</td>\n",
              "      <td>59</td>\n",
              "      <td>3</td>\n",
              "      <td>0.029412</td>\n",
              "      <td>NaN</td>\n",
              "      <td>NaT</td>\n",
              "      <td>NaN</td>\n",
              "      <td>NaN</td>\n",
              "      <td>0.00</td>\n",
              "    </tr>\n",
              "    <tr>\n",
              "      <th>20</th>\n",
              "      <td>16</td>\n",
              "      <td>Leather stretch mules</td>\n",
              "      <td>620</td>\n",
              "      <td>Heels</td>\n",
              "      <td>Bottega Veneta</td>\n",
              "      <td>144</td>\n",
              "      <td>9</td>\n",
              "      <td>0.029412</td>\n",
              "      <td>84.0</td>\n",
              "      <td>2022-07-07</td>\n",
              "      <td>71.40</td>\n",
              "      <td>No</td>\n",
              "      <td>71.40</td>\n",
              "    </tr>\n",
              "    <tr>\n",
              "      <th>21</th>\n",
              "      <td>17</td>\n",
              "      <td>Leather bag</td>\n",
              "      <td>80</td>\n",
              "      <td>Bag</td>\n",
              "      <td>Coach</td>\n",
              "      <td>29</td>\n",
              "      <td>1</td>\n",
              "      <td>0.029412</td>\n",
              "      <td>NaN</td>\n",
              "      <td>NaT</td>\n",
              "      <td>NaN</td>\n",
              "      <td>NaN</td>\n",
              "      <td>0.00</td>\n",
              "    </tr>\n",
              "    <tr>\n",
              "      <th>22</th>\n",
              "      <td>18</td>\n",
              "      <td>Speedy 90</td>\n",
              "      <td>900</td>\n",
              "      <td>Bag</td>\n",
              "      <td>Louis Vuitton</td>\n",
              "      <td>80</td>\n",
              "      <td>0</td>\n",
              "      <td>0.029412</td>\n",
              "      <td>NaN</td>\n",
              "      <td>NaT</td>\n",
              "      <td>NaN</td>\n",
              "      <td>NaN</td>\n",
              "      <td>0.00</td>\n",
              "    </tr>\n",
              "    <tr>\n",
              "      <th>23</th>\n",
              "      <td>19</td>\n",
              "      <td>Blackout Mules</td>\n",
              "      <td>450</td>\n",
              "      <td>Heels</td>\n",
              "      <td>Simon Miller</td>\n",
              "      <td>39</td>\n",
              "      <td>3</td>\n",
              "      <td>0.029412</td>\n",
              "      <td>23.0</td>\n",
              "      <td>2022-08-12</td>\n",
              "      <td>19.55</td>\n",
              "      <td>No</td>\n",
              "      <td>19.55</td>\n",
              "    </tr>\n",
              "    <tr>\n",
              "      <th>24</th>\n",
              "      <td>20</td>\n",
              "      <td>Graffiti Espadrilles</td>\n",
              "      <td>250</td>\n",
              "      <td>Flats</td>\n",
              "      <td>Burberry</td>\n",
              "      <td>21</td>\n",
              "      <td>0</td>\n",
              "      <td>0.029412</td>\n",
              "      <td>NaN</td>\n",
              "      <td>NaT</td>\n",
              "      <td>NaN</td>\n",
              "      <td>NaN</td>\n",
              "      <td>0.00</td>\n",
              "    </tr>\n",
              "    <tr>\n",
              "      <th>25</th>\n",
              "      <td>21</td>\n",
              "      <td>Tabi boots</td>\n",
              "      <td>720</td>\n",
              "      <td>Boots</td>\n",
              "      <td>Maison Margiela</td>\n",
              "      <td>71</td>\n",
              "      <td>4</td>\n",
              "      <td>0.029412</td>\n",
              "      <td>39.0</td>\n",
              "      <td>2022-06-15</td>\n",
              "      <td>33.15</td>\n",
              "      <td>No</td>\n",
              "      <td>66.30</td>\n",
              "    </tr>\n",
              "    <tr>\n",
              "      <th>26</th>\n",
              "      <td>21</td>\n",
              "      <td>Tabi boots</td>\n",
              "      <td>720</td>\n",
              "      <td>Boots</td>\n",
              "      <td>Maison Margiela</td>\n",
              "      <td>71</td>\n",
              "      <td>4</td>\n",
              "      <td>0.029412</td>\n",
              "      <td>39.0</td>\n",
              "      <td>2022-08-28</td>\n",
              "      <td>33.15</td>\n",
              "      <td>No</td>\n",
              "      <td>66.30</td>\n",
              "    </tr>\n",
              "    <tr>\n",
              "      <th>27</th>\n",
              "      <td>22</td>\n",
              "      <td>Seasonal classic flap</td>\n",
              "      <td>3050</td>\n",
              "      <td>Bag</td>\n",
              "      <td>Chanel</td>\n",
              "      <td>201</td>\n",
              "      <td>1</td>\n",
              "      <td>0.029412</td>\n",
              "      <td>NaN</td>\n",
              "      <td>NaT</td>\n",
              "      <td>NaN</td>\n",
              "      <td>NaN</td>\n",
              "      <td>0.00</td>\n",
              "    </tr>\n",
              "    <tr>\n",
              "      <th>28</th>\n",
              "      <td>23</td>\n",
              "      <td>Hangisi 90mm</td>\n",
              "      <td>795</td>\n",
              "      <td>Heels</td>\n",
              "      <td>Manolo Blahnik</td>\n",
              "      <td>130</td>\n",
              "      <td>6</td>\n",
              "      <td>0.029412</td>\n",
              "      <td>NaN</td>\n",
              "      <td>NaT</td>\n",
              "      <td>NaN</td>\n",
              "      <td>NaN</td>\n",
              "      <td>0.00</td>\n",
              "    </tr>\n",
              "    <tr>\n",
              "      <th>29</th>\n",
              "      <td>24</td>\n",
              "      <td>Juju pumps</td>\n",
              "      <td>224</td>\n",
              "      <td>Heels</td>\n",
              "      <td>By Far</td>\n",
              "      <td>245</td>\n",
              "      <td>22</td>\n",
              "      <td>0.029412</td>\n",
              "      <td>NaN</td>\n",
              "      <td>NaT</td>\n",
              "      <td>NaN</td>\n",
              "      <td>NaN</td>\n",
              "      <td>0.00</td>\n",
              "    </tr>\n",
              "    <tr>\n",
              "      <th>30</th>\n",
              "      <td>25</td>\n",
              "      <td>New very prive 120mm</td>\n",
              "      <td>650</td>\n",
              "      <td>Heels</td>\n",
              "      <td>Christian Louboutin</td>\n",
              "      <td>47</td>\n",
              "      <td>8</td>\n",
              "      <td>0.029412</td>\n",
              "      <td>NaN</td>\n",
              "      <td>NaT</td>\n",
              "      <td>NaN</td>\n",
              "      <td>NaN</td>\n",
              "      <td>0.00</td>\n",
              "    </tr>\n",
              "    <tr>\n",
              "      <th>31</th>\n",
              "      <td>26</td>\n",
              "      <td>So Nude 105</td>\n",
              "      <td>450</td>\n",
              "      <td>Heels</td>\n",
              "      <td>Aquazurra</td>\n",
              "      <td>50</td>\n",
              "      <td>6</td>\n",
              "      <td>0.029412</td>\n",
              "      <td>19.0</td>\n",
              "      <td>2022-08-06</td>\n",
              "      <td>16.15</td>\n",
              "      <td>No</td>\n",
              "      <td>16.15</td>\n",
              "    </tr>\n",
              "    <tr>\n",
              "      <th>32</th>\n",
              "      <td>27</td>\n",
              "      <td>So Kate 120mm</td>\n",
              "      <td>450</td>\n",
              "      <td>Heels</td>\n",
              "      <td>Christian Louboutin</td>\n",
              "      <td>39</td>\n",
              "      <td>3</td>\n",
              "      <td>0.029412</td>\n",
              "      <td>NaN</td>\n",
              "      <td>NaT</td>\n",
              "      <td>NaN</td>\n",
              "      <td>NaN</td>\n",
              "      <td>0.00</td>\n",
              "    </tr>\n",
              "    <tr>\n",
              "      <th>33</th>\n",
              "      <td>28</td>\n",
              "      <td>Maysale 50</td>\n",
              "      <td>545</td>\n",
              "      <td>Heels</td>\n",
              "      <td>Manolo Blahnik</td>\n",
              "      <td>42</td>\n",
              "      <td>1</td>\n",
              "      <td>0.029412</td>\n",
              "      <td>NaN</td>\n",
              "      <td>NaT</td>\n",
              "      <td>NaN</td>\n",
              "      <td>NaN</td>\n",
              "      <td>0.00</td>\n",
              "    </tr>\n",
              "    <tr>\n",
              "      <th>34</th>\n",
              "      <td>29</td>\n",
              "      <td>Gucci x Adidas</td>\n",
              "      <td>575</td>\n",
              "      <td>Trainers</td>\n",
              "      <td>Gucci</td>\n",
              "      <td>36</td>\n",
              "      <td>4</td>\n",
              "      <td>0.029412</td>\n",
              "      <td>NaN</td>\n",
              "      <td>NaT</td>\n",
              "      <td>NaN</td>\n",
              "      <td>NaN</td>\n",
              "      <td>0.00</td>\n",
              "    </tr>\n",
              "    <tr>\n",
              "      <th>35</th>\n",
              "      <td>30</td>\n",
              "      <td>Sun glasses</td>\n",
              "      <td>200</td>\n",
              "      <td>Glasses</td>\n",
              "      <td>Miu Miu</td>\n",
              "      <td>7</td>\n",
              "      <td>0</td>\n",
              "      <td>0.029412</td>\n",
              "      <td>NaN</td>\n",
              "      <td>NaT</td>\n",
              "      <td>NaN</td>\n",
              "      <td>NaN</td>\n",
              "      <td>0.00</td>\n",
              "    </tr>\n",
              "    <tr>\n",
              "      <th>36</th>\n",
              "      <td>31</td>\n",
              "      <td>Le bob Artichaut</td>\n",
              "      <td>80</td>\n",
              "      <td>Hat</td>\n",
              "      <td>Jacquemus</td>\n",
              "      <td>27</td>\n",
              "      <td>0</td>\n",
              "      <td>0.029412</td>\n",
              "      <td>NaN</td>\n",
              "      <td>NaT</td>\n",
              "      <td>NaN</td>\n",
              "      <td>NaN</td>\n",
              "      <td>0.00</td>\n",
              "    </tr>\n",
              "    <tr>\n",
              "      <th>37</th>\n",
              "      <td>32</td>\n",
              "      <td>Le Polo Bagnu towel shirt</td>\n",
              "      <td>230</td>\n",
              "      <td>Shirt</td>\n",
              "      <td>Jacquemus</td>\n",
              "      <td>21</td>\n",
              "      <td>0</td>\n",
              "      <td>0.029412</td>\n",
              "      <td>NaN</td>\n",
              "      <td>NaT</td>\n",
              "      <td>NaN</td>\n",
              "      <td>NaN</td>\n",
              "      <td>0.00</td>\n",
              "    </tr>\n",
              "    <tr>\n",
              "      <th>38</th>\n",
              "      <td>33</td>\n",
              "      <td>Platfrom heels</td>\n",
              "      <td>400</td>\n",
              "      <td>Heels</td>\n",
              "      <td>Fendi</td>\n",
              "      <td>23</td>\n",
              "      <td>0</td>\n",
              "      <td>0.029412</td>\n",
              "      <td>NaN</td>\n",
              "      <td>NaT</td>\n",
              "      <td>NaN</td>\n",
              "      <td>NaN</td>\n",
              "      <td>0.00</td>\n",
              "    </tr>\n",
              "    <tr>\n",
              "      <th>39</th>\n",
              "      <td>34</td>\n",
              "      <td>Soho Boho Bag</td>\n",
              "      <td>900</td>\n",
              "      <td>Bag</td>\n",
              "      <td>Gucci</td>\n",
              "      <td>27</td>\n",
              "      <td>2</td>\n",
              "      <td>0.029412</td>\n",
              "      <td>NaN</td>\n",
              "      <td>NaT</td>\n",
              "      <td>NaN</td>\n",
              "      <td>NaN</td>\n",
              "      <td>0.00</td>\n",
              "    </tr>\n",
              "  </tbody>\n",
              "</table>\n",
              "</div>\n",
              "      <button class=\"colab-df-convert\" onclick=\"convertToInteractive('df-70870513-3420-4bd2-a0f9-6f6261d99e62')\"\n",
              "              title=\"Convert this dataframe to an interactive table.\"\n",
              "              style=\"display:none;\">\n",
              "        \n",
              "  <svg xmlns=\"http://www.w3.org/2000/svg\" height=\"24px\"viewBox=\"0 0 24 24\"\n",
              "       width=\"24px\">\n",
              "    <path d=\"M0 0h24v24H0V0z\" fill=\"none\"/>\n",
              "    <path d=\"M18.56 5.44l.94 2.06.94-2.06 2.06-.94-2.06-.94-.94-2.06-.94 2.06-2.06.94zm-11 1L8.5 8.5l.94-2.06 2.06-.94-2.06-.94L8.5 2.5l-.94 2.06-2.06.94zm10 10l.94 2.06.94-2.06 2.06-.94-2.06-.94-.94-2.06-.94 2.06-2.06.94z\"/><path d=\"M17.41 7.96l-1.37-1.37c-.4-.4-.92-.59-1.43-.59-.52 0-1.04.2-1.43.59L10.3 9.45l-7.72 7.72c-.78.78-.78 2.05 0 2.83L4 21.41c.39.39.9.59 1.41.59.51 0 1.02-.2 1.41-.59l7.78-7.78 2.81-2.81c.8-.78.8-2.07 0-2.86zM5.41 20L4 18.59l7.72-7.72 1.47 1.35L5.41 20z\"/>\n",
              "  </svg>\n",
              "      </button>\n",
              "      \n",
              "  <style>\n",
              "    .colab-df-container {\n",
              "      display:flex;\n",
              "      flex-wrap:wrap;\n",
              "      gap: 12px;\n",
              "    }\n",
              "\n",
              "    .colab-df-convert {\n",
              "      background-color: #E8F0FE;\n",
              "      border: none;\n",
              "      border-radius: 50%;\n",
              "      cursor: pointer;\n",
              "      display: none;\n",
              "      fill: #1967D2;\n",
              "      height: 32px;\n",
              "      padding: 0 0 0 0;\n",
              "      width: 32px;\n",
              "    }\n",
              "\n",
              "    .colab-df-convert:hover {\n",
              "      background-color: #E2EBFA;\n",
              "      box-shadow: 0px 1px 2px rgba(60, 64, 67, 0.3), 0px 1px 3px 1px rgba(60, 64, 67, 0.15);\n",
              "      fill: #174EA6;\n",
              "    }\n",
              "\n",
              "    [theme=dark] .colab-df-convert {\n",
              "      background-color: #3B4455;\n",
              "      fill: #D2E3FC;\n",
              "    }\n",
              "\n",
              "    [theme=dark] .colab-df-convert:hover {\n",
              "      background-color: #434B5C;\n",
              "      box-shadow: 0px 1px 3px 1px rgba(0, 0, 0, 0.15);\n",
              "      filter: drop-shadow(0px 1px 2px rgba(0, 0, 0, 0.3));\n",
              "      fill: #FFFFFF;\n",
              "    }\n",
              "  </style>\n",
              "\n",
              "      <script>\n",
              "        const buttonEl =\n",
              "          document.querySelector('#df-70870513-3420-4bd2-a0f9-6f6261d99e62 button.colab-df-convert');\n",
              "        buttonEl.style.display =\n",
              "          google.colab.kernel.accessAllowed ? 'block' : 'none';\n",
              "\n",
              "        async function convertToInteractive(key) {\n",
              "          const element = document.querySelector('#df-70870513-3420-4bd2-a0f9-6f6261d99e62');\n",
              "          const dataTable =\n",
              "            await google.colab.kernel.invokeFunction('convertToInteractive',\n",
              "                                                     [key], {});\n",
              "          if (!dataTable) return;\n",
              "\n",
              "          const docLinkHtml = 'Like what you see? Visit the ' +\n",
              "            '<a target=\"_blank\" href=https://colab.research.google.com/notebooks/data_table.ipynb>data table notebook</a>'\n",
              "            + ' to learn more about interactive tables.';\n",
              "          element.innerHTML = '';\n",
              "          dataTable['output_type'] = 'display_data';\n",
              "          await google.colab.output.renderOutput(dataTable, element);\n",
              "          const docLink = document.createElement('div');\n",
              "          docLink.innerHTML = docLinkHtml;\n",
              "          element.appendChild(docLink);\n",
              "        }\n",
              "      </script>\n",
              "    </div>\n",
              "  </div>\n",
              "  "
            ]
          },
          "metadata": {},
          "execution_count": 74
        }
      ]
    },
    {
      "cell_type": "code",
      "source": [
        "fig, ax = plt.subplots(figsize=(10,6))\n",
        "ax.bar(listings_sales[\"Product Name\"], listings_sales[\"Product Views\"], color=\"deeppink\")\n",
        "plt.title(\"Product views per item\") \n",
        "plt.xlabel(\"Product\")\n",
        "plt.ylabel(\"Views\") \n",
        "plt.xticks(rotation = 90)\n",
        "plt.show()"
      ],
      "metadata": {
        "colab": {
          "base_uri": "https://localhost:8080/",
          "height": 520
        },
        "id": "t9FxicI_LBYV",
        "outputId": "703e3bb2-4fa0-49f5-f3da-c170c70d8da5"
      },
      "execution_count": 79,
      "outputs": [
        {
          "output_type": "display_data",
          "data": {
            "text/plain": [
              "<Figure size 720x432 with 1 Axes>"
            ],
            "image/png": "[encoded data removed]"
          },
          "metadata": {
            "needs_background": "light"
          }
        }
      ]
    },
    {
      "cell_type": "code",
      "source": [
        "#https://towardsdatascience.com/calculating-sales-conversion-using-bayesian-probability-b08f9fb262f2\n",
        "months_on_app = 8\n",
        "prada_sales = 6\n",
        "conversion_rate = prada_sales/months_on_app\n",
        "conversion_rate"
      ],
      "metadata": {
        "colab": {
          "base_uri": "https://localhost:8080/"
        },
        "id": "xpGeARYvUqIg",
        "outputId": "4f88ca2b-ce98-4e73-c9bc-2c842218dbed"
      },
      "execution_count": 84,
      "outputs": [
        {
          "output_type": "execute_result",
          "data": {
            "text/plain": [
              "0.75"
            ]
          },
          "metadata": {},
          "execution_count": 84
        }
      ]
    },
    {
      "cell_type": "code",
      "source": [
        "weeks_of_listing = 36\n",
        "prada_sales = 6\n",
        "conversion_rate = prada_sales/weeks_of_listing\n",
        "conversion_rate"
      ],
      "metadata": {
        "colab": {
          "base_uri": "https://localhost:8080/"
        },
        "id": "k3Jx15KfcwvN",
        "outputId": "9925562c-5db6-4c5f-f43c-cecd2f5960e8"
      },
      "execution_count": 48,
      "outputs": [
        {
          "output_type": "execute_result",
          "data": {
            "text/plain": [
              "0.16666666666666666"
            ]
          },
          "metadata": {},
          "execution_count": 48
        }
      ]
    },
    {
      "cell_type": "code",
      "source": [
        "views = 164\n",
        "prada_sales = 6\n",
        "conversion_rate = prada_sales/views\n",
        "conversion_rate"
      ],
      "metadata": {
        "colab": {
          "base_uri": "https://localhost:8080/"
        },
        "id": "fysWUhuWVVq_",
        "outputId": "079113cc-9405-4dd0-9b0f-8da49a049c4e"
      },
      "execution_count": 85,
      "outputs": [
        {
          "output_type": "execute_result",
          "data": {
            "text/plain": [
              "0.036585365853658534"
            ]
          },
          "metadata": {},
          "execution_count": 85
        }
      ]
    },
    {
      "cell_type": "code",
      "source": [
        "#https://towardsai.net/p/l/bayesian-inference-in-python\n",
        "#Taking a grid of 1000 points between 0 and 1\n",
        "probability_grid = np.linspace(0,1,num= 1000)\n",
        "#As we have assumed a uniform distribution between 0 and 1 (i.e. uniform distribution across all 1000 grid points)\n",
        "prior_probability = np.ones(1000)\n",
        "plt.plot(prior_probability)"
      ],
      "metadata": {
        "id": "-X_JIqx9V9b-"
      },
      "execution_count": null,
      "outputs": []
    },
    {
      "cell_type": "code",
      "source": [
        "s = np.random.uniform(0,1,1000)\n",
        "count, bins, ignored = plt.hist(s, 15, density=True)\n",
        "plt.plot(bins, np.ones_like(bins), linewidth=2, color='r')\n",
        "plt.show()"
      ],
      "metadata": {
        "colab": {
          "base_uri": "https://localhost:8080/",
          "height": 265
        },
        "id": "7x0CBrpGuOMZ",
        "outputId": "9f68d0e7-92b2-49d7-d81b-e4ef43fc6c68"
      },
      "execution_count": 34,
      "outputs": [
        {
          "output_type": "display_data",
          "data": {
            "text/plain": [
              "<Figure size 432x288 with 1 Axes>"
            ],
            "image/png": "[encoded data removed]"
          },
          "metadata": {
            "needs_background": "light"
          }
        }
      ]
    },
    {
      "cell_type": "code",
      "source": [
        "#https://www.youtube.com/watch?v=89ye2hfsAsk\n",
        "import random\n",
        "x = np.random.binomial(164, 0.036, 10000) #simulating 164 views 10,000 times with prob of conversion 0.036\n",
        "plt.hist(x, density=True) # density defines frequency and not counts\n",
        "plt.suptitle(\"simulating 164 views 10,000 times\")"
      ],
      "metadata": {
        "colab": {
          "base_uri": "https://localhost:8080/",
          "height": 314
        },
        "id": "f2Bh-8FLDWNk",
        "outputId": "0703e2fb-45d9-4ddc-e084-f3b029248319"
      },
      "execution_count": 70,
      "outputs": [
        {
          "output_type": "execute_result",
          "data": {
            "text/plain": [
              "Text(0.5, 0.98, 'simulating 164 views 10,000 times')"
            ]
          },
          "metadata": {},
          "execution_count": 70
        },
        {
          "output_type": "display_data",
          "data": {
            "text/plain": [
              "<Figure size 432x288 with 1 Axes>"
            ],
            "image/png": "[encoded data removed]"
          },
          "metadata": {}
        }
      ]
    },
    {
      "cell_type": "markdown",
      "source": [
        "renting the bag 5 times has the most prob of 16%."
      ],
      "metadata": {
        "id": "yrTHOu_EJYIC"
      }
    },
    {
      "cell_type": "code",
      "source": [
        "#if I get the prada bag for 300 views, with a prob of 0.036 of it being rented, what's the probability I'll rent it > 14 times?\n",
        "sum(np.random.binomial(164, 0.036, 10000) >= 14)/10000"
      ],
      "metadata": {
        "colab": {
          "base_uri": "https://localhost:8080/"
        },
        "id": "ZCVDnFTQXwFt",
        "outputId": "e2d2f983-555a-441a-b2ae-292f1528a6cb"
      },
      "execution_count": 53,
      "outputs": [
        {
          "output_type": "execute_result",
          "data": {
            "text/plain": [
              "0.0032"
            ]
          },
          "metadata": {},
          "execution_count": 53
        }
      ]
    },
    {
      "cell_type": "code",
      "source": [
        "x = np.random.binomial(8, 0.75, 10000) #simulating 8 months 10,000 times with prob of conversion 0.75\n",
        "plt.hist(x, density=True) # density defines frequency and not counts\n",
        "plt.suptitle(\"simulating 8 months 10,000 times\")"
      ],
      "metadata": {
        "colab": {
          "base_uri": "https://localhost:8080/",
          "height": 314
        },
        "id": "YPtaXf0ScckA",
        "outputId": "316c4aa0-e1c0-420f-e2b5-9b2b281a9337"
      },
      "execution_count": 65,
      "outputs": [
        {
          "output_type": "execute_result",
          "data": {
            "text/plain": [
              "Text(0.5, 0.98, 'simulating 8 months 10,000 times')"
            ]
          },
          "metadata": {},
          "execution_count": 65
        },
        {
          "output_type": "display_data",
          "data": {
            "text/plain": [
              "<Figure size 432x288 with 1 Axes>"
            ],
            "image/png": "[encoded data removed]"
          },
          "metadata": {}
        }
      ]
    },
    {
      "cell_type": "code",
      "source": [
        "#if I list the prada bag for 8 more months with a prob of 0.75 of it being rented, what's the probability I'll rent it > 14 times?\n",
        "sum(np.random.binomial(8, 0.75, 10000) >= 14)/10000"
      ],
      "metadata": {
        "colab": {
          "base_uri": "https://localhost:8080/"
        },
        "id": "FD1cMS3QGVWN",
        "outputId": "9dfbae02-80c1-46f9-ae53-a67e1fa24fd8"
      },
      "execution_count": 20,
      "outputs": [
        {
          "output_type": "execute_result",
          "data": {
            "text/plain": [
              "0.0"
            ]
          },
          "metadata": {},
          "execution_count": 20
        }
      ]
    },
    {
      "cell_type": "markdown",
      "source": [
        "I need to rent the bag 14 more times to break even from the price I bought it but the probability of doing that in the next 8 months is 0"
      ],
      "metadata": {
        "id": "kptL6oeQHz02"
      }
    },
    {
      "cell_type": "code",
      "source": [
        "x = np.random.binomial(36, 0.166, 10000) #simulating 36 weeks 10,000 times with prob of conversion 0.166\n",
        "plt.hist(x, density=True) # density defines frequency and not counts\n",
        "plt.suptitle(\"simulating 36 weeks 10,000 times\")"
      ],
      "metadata": {
        "colab": {
          "base_uri": "https://localhost:8080/",
          "height": 314
        },
        "id": "dz-ztNa_dEeq",
        "outputId": "988c5dd7-bf3b-4094-e8f2-c8c3a9316995"
      },
      "execution_count": 69,
      "outputs": [
        {
          "output_type": "execute_result",
          "data": {
            "text/plain": [
              "Text(0.5, 0.98, 'simulating 36 weeks 10,000 times')"
            ]
          },
          "metadata": {},
          "execution_count": 69
        },
        {
          "output_type": "display_data",
          "data": {
            "text/plain": [
              "<Figure size 432x288 with 1 Axes>"
            ],
            "image/png": "[encoded data removed]"
          },
          "metadata": {}
        }
      ]
    },
    {
      "cell_type": "code",
      "source": [
        "sum(np.random.binomial(36, 0.166, 10000) >= 14)/10000"
      ],
      "metadata": {
        "colab": {
          "base_uri": "https://localhost:8080/"
        },
        "id": "kb9jN_DFdy2Z",
        "outputId": "1e47de04-cdfe-4643-9631-94d600fa8ef6"
      },
      "execution_count": 52,
      "outputs": [
        {
          "output_type": "execute_result",
          "data": {
            "text/plain": [
              "0.0015"
            ]
          },
          "metadata": {},
          "execution_count": 52
        }
      ]
    },
    {
      "cell_type": "code",
      "source": [
        "# conversion data\n",
        "p_a = 0.036\n",
        "N = 164\n",
        "n_success_a = np.random.binomial(N, p_a)"
      ],
      "metadata": {
        "id": "wQwn4T-bVQiU"
      },
      "execution_count": 21,
      "outputs": []
    },
    {
      "cell_type": "code",
      "source": [
        "pip install pymc3 "
      ],
      "metadata": {
        "id": "sFFab6AeWXnl"
      },
      "execution_count": null,
      "outputs": []
    },
    {
      "cell_type": "code",
      "source": [
        "# build model\n",
        "import pymc3 as pm\n",
        "with pm.Model() as Model:\n",
        "  # prior on p\n",
        "  prob = pm.Uniform('p')\n",
        "  # binomial likelihood\n",
        "  y = pm.Binomial('y', n=N, p=prob, observed=n_success_a)"
      ],
      "metadata": {
        "id": "UrVv8aU7Vic4"
      },
      "execution_count": 27,
      "outputs": []
    },
    {
      "cell_type": "code",
      "source": [
        "# sample from posterior\n",
        "with Model:\n",
        "  samples = pm.sample(2000, cores=1) # njobsargument didn't work so set to cores"
      ],
      "metadata": {
        "colab": {
          "base_uri": "https://localhost:8080/",
          "height": 112
        },
        "id": "Ct86Z80TYzKl",
        "outputId": "97f8a269-351e-44ff-9b29-5552b13d3a9b"
      },
      "execution_count": 38,
      "outputs": [
        {
          "output_type": "stream",
          "name": "stderr",
          "text": [
            "/usr/local/lib/python3.7/dist-packages/deprecat/classic.py:215: FutureWarning: In v4.0, pm.sample will return an `arviz.InferenceData` object instead of a `MultiTrace` by default. You can pass return_inferencedata=True or return_inferencedata=False to be safe and silence this warning.\n",
            "  return wrapped_(*args_, **kwargs_)\n"
          ]
        },
        {
          "output_type": "display_data",
          "data": {
            "text/plain": [
              "<IPython.core.display.HTML object>"
            ],
            "text/html": [
              "\n",
              "<style>\n",
              "    /* Turns off some styling */\n",
              "    progress {\n",
              "        /* gets rid of default border in Firefox and Opera. */\n",
              "        border: none;\n",
              "        /* Needs to be in here for Safari polyfill so background images work as expected. */\n",
              "        background-size: auto;\n",
              "    }\n",
              "    progress:not([value]), progress:not([value])::-webkit-progress-bar {\n",
              "        background: repeating-linear-gradient(45deg, #7e7e7e, #7e7e7e 10px, #5c5c5c 10px, #5c5c5c 20px);\n",
              "    }\n",
              "    .progress-bar-interrupted, .progress-bar-interrupted::-webkit-progress-bar {\n",
              "        background: #F44336;\n",
              "    }\n",
              "</style>\n"
            ]
          },
          "metadata": {}
        },
        {
          "output_type": "display_data",
          "data": {
            "text/plain": [
              "<IPython.core.display.HTML object>"
            ],
            "text/html": [
              "\n",
              "    <div>\n",
              "      <progress value='3000' class='' max='3000' style='width:300px; height:20px; vertical-align: middle;'></progress>\n",
              "      100.00% [3000/3000 00:03&lt;00:00 Sampling chain 0, 0 divergences]\n",
              "    </div>\n",
              "    "
            ]
          },
          "metadata": {}
        },
        {
          "output_type": "display_data",
          "data": {
            "text/plain": [
              "<IPython.core.display.HTML object>"
            ],
            "text/html": [
              "\n",
              "<style>\n",
              "    /* Turns off some styling */\n",
              "    progress {\n",
              "        /* gets rid of default border in Firefox and Opera. */\n",
              "        border: none;\n",
              "        /* Needs to be in here for Safari polyfill so background images work as expected. */\n",
              "        background-size: auto;\n",
              "    }\n",
              "    progress:not([value]), progress:not([value])::-webkit-progress-bar {\n",
              "        background: repeating-linear-gradient(45deg, #7e7e7e, #7e7e7e 10px, #5c5c5c 10px, #5c5c5c 20px);\n",
              "    }\n",
              "    .progress-bar-interrupted, .progress-bar-interrupted::-webkit-progress-bar {\n",
              "        background: #F44336;\n",
              "    }\n",
              "</style>\n"
            ]
          },
          "metadata": {}
        },
        {
          "output_type": "display_data",
          "data": {
            "text/plain": [
              "<IPython.core.display.HTML object>"
            ],
            "text/html": [
              "\n",
              "    <div>\n",
              "      <progress value='3000' class='' max='3000' style='width:300px; height:20px; vertical-align: middle;'></progress>\n",
              "      100.00% [3000/3000 00:01&lt;00:00 Sampling chain 1, 0 divergences]\n",
              "    </div>\n",
              "    "
            ]
          },
          "metadata": {}
        }
      ]
    },
    {
      "cell_type": "code",
      "source": [
        "# plot posterior\n",
        "pm.plot_posterior(samples);"
      ],
      "metadata": {
        "colab": {
          "base_uri": "https://localhost:8080/",
          "height": 353
        },
        "id": "I59uzNFmZMXh",
        "outputId": "c38981cf-41bb-4285-8371-e265fc2041e3"
      },
      "execution_count": 39,
      "outputs": [
        {
          "output_type": "stream",
          "name": "stderr",
          "text": [
            "ERROR:arviz.data.io_pymc3_3x:Got error No model on context stack. trying to find log_likelihood in translation.\n",
            "/usr/local/lib/python3.7/dist-packages/arviz/data/io_pymc3_3x.py:102: FutureWarning: Using `from_pymc3` without the model will be deprecated in a future release. Not using the model will return less accurate and less useful results. Make sure you use the model argument or call from_pymc3 within a model context.\n",
            "  FutureWarning,\n"
          ]
        },
        {
          "output_type": "display_data",
          "data": {
            "text/plain": [
              "<Figure size 432x288 with 1 Axes>"
            ],
            "image/png": "[encoded data removed]"
          },
          "metadata": {}
        }
      ]
    },
    {
      "cell_type": "code",
      "source": [
        "# how certain can you be that conversion is above 10%\n",
        "pm.plot_posterior(samples, ref_val=0.10);\n",
        "pm.plot_posterior(samples, ref_val=0.05);"
      ],
      "metadata": {
        "colab": {
          "base_uri": "https://localhost:8080/",
          "height": 669
        },
        "id": "E78G5SEnfAdC",
        "outputId": "17cd46a1-5616-451b-aa51-21b761cea529"
      },
      "execution_count": 58,
      "outputs": [
        {
          "output_type": "stream",
          "name": "stderr",
          "text": [
            "ERROR:arviz.data.io_pymc3_3x:Got error No model on context stack. trying to find log_likelihood in translation.\n",
            "/usr/local/lib/python3.7/dist-packages/arviz/data/io_pymc3_3x.py:102: FutureWarning: Using `from_pymc3` without the model will be deprecated in a future release. Not using the model will return less accurate and less useful results. Make sure you use the model argument or call from_pymc3 within a model context.\n",
            "  FutureWarning,\n",
            "ERROR:arviz.data.io_pymc3_3x:Got error No model on context stack. trying to find log_likelihood in translation.\n",
            "/usr/local/lib/python3.7/dist-packages/arviz/data/io_pymc3_3x.py:102: FutureWarning: Using `from_pymc3` without the model will be deprecated in a future release. Not using the model will return less accurate and less useful results. Make sure you use the model argument or call from_pymc3 within a model context.\n",
            "  FutureWarning,\n"
          ]
        },
        {
          "output_type": "display_data",
          "data": {
            "text/plain": [
              "<Figure size 432x288 with 1 Axes>"
            ],
            "image/png": "[encoded data removed]"
          },
          "metadata": {}
        },
        {
          "output_type": "display_data",
          "data": {
            "text/plain": [
              "<Figure size 432x288 with 1 Axes>"
            ],
            "image/png": "[encoded data removed]"
          },
          "metadata": {}
        }
      ]
    },
    {
      "cell_type": "markdown",
      "source": [
        "The model developed given the data I know and the assumptions stated, I can be 0% certain that conversion is greater than 10% and 3.6%vsure its above 5%"
      ],
      "metadata": {
        "id": "ABUZLl2XfvvP"
      }
    },
    {
      "cell_type": "code",
      "source": [
        "# 1 = sell and 0 = not sell for prada bag\n",
        "binom.rvs(1, 0.036, size=1)"
      ],
      "metadata": {
        "colab": {
          "base_uri": "https://localhost:8080/"
        },
        "id": "D77ilmgO8Rpw",
        "outputId": "209fefdb-ca4c-4ff7-c519-2e3f551209e7"
      },
      "execution_count": 23,
      "outputs": [
        {
          "output_type": "execute_result",
          "data": {
            "text/plain": [
              "array([0])"
            ]
          },
          "metadata": {},
          "execution_count": 23
        }
      ]
    },
    {
      "cell_type": "code",
      "source": [
        "binom.rvs(1, 0.036, size=164)\n"
      ],
      "metadata": {
        "colab": {
          "base_uri": "https://localhost:8080/"
        },
        "id": "A0o7ykRB8lQq",
        "outputId": "fa78bffd-87cc-4a1c-e0c2-c9f433efdc0c"
      },
      "execution_count": 28,
      "outputs": [
        {
          "output_type": "execute_result",
          "data": {
            "text/plain": [
              "array([0, 0, 0, 1, 0, 0, 0, 0, 0, 0, 0, 0, 0, 0, 0, 0, 0, 0, 0, 0, 0, 0,\n",
              "       0, 0, 0, 0, 0, 0, 0, 0, 0, 0, 0, 0, 0, 0, 0, 0, 0, 0, 0, 0, 0, 0,\n",
              "       0, 0, 0, 0, 0, 0, 0, 0, 0, 0, 0, 0, 0, 0, 0, 0, 0, 0, 0, 0, 0, 0,\n",
              "       0, 0, 0, 0, 0, 0, 0, 0, 0, 0, 0, 0, 0, 0, 0, 0, 0, 0, 0, 0, 0, 0,\n",
              "       0, 0, 0, 0, 0, 0, 0, 0, 0, 0, 0, 0, 0, 0, 0, 0, 0, 0, 0, 0, 0, 0,\n",
              "       0, 0, 0, 0, 0, 0, 0, 0, 0, 0, 0, 0, 0, 0, 0, 0, 0, 0, 0, 0, 0, 0,\n",
              "       0, 0, 0, 0, 0, 0, 0, 0, 0, 0, 0, 0, 0, 0, 0, 0, 0, 0, 0, 0, 0, 0,\n",
              "       0, 0, 0, 0, 0, 0, 0, 1, 0, 0])"
            ]
          },
          "metadata": {},
          "execution_count": 28
        }
      ]
    },
    {
      "cell_type": "code",
      "source": [],
      "metadata": {
        "id": "BnPgNzGg9R8u"
      },
      "execution_count": null,
      "outputs": []
    }
  ]
}